{
  "nbformat": 4,
  "nbformat_minor": 0,
  "metadata": {
    "colab": {
      "name": "NS_proposal.ipynb",
      "provenance": [],
      "collapsed_sections": [],
      "include_colab_link": true
    },
    "kernelspec": {
      "name": "python3",
      "display_name": "Python 3"
    }
  },
  "cells": [
    {
      "cell_type": "markdown",
      "metadata": {
        "id": "view-in-github",
        "colab_type": "text"
      },
      "source": [
        "<a href=\"https://colab.research.google.com/github/martinahanakova/nsiete-hanakova-kratky/blob/master/NS_proposal.ipynb\" target=\"_parent\"><img src=\"https://colab.research.google.com/assets/colab-badge.svg\" alt=\"Open In Colab\"/></a>"
      ]
    },
    {
      "cell_type": "markdown",
      "metadata": {
        "id": "hyEGUD7XcYYA",
        "colab_type": "text"
      },
      "source": [
        "# Neurónové siete - Návrh zadania projektu\n",
        "\n",
        "\n"
      ]
    },
    {
      "cell_type": "markdown",
      "metadata": {
        "id": "0kgCmg0twNKX",
        "colab_type": "text"
      },
      "source": [
        "Marek Krátky,\n",
        "Martina Hanáková"
      ]
    },
    {
      "cell_type": "markdown",
      "metadata": {
        "id": "GkDxVPVmcyX2",
        "colab_type": "text"
      },
      "source": [
        "## Motivácia"
      ]
    },
    {
      "cell_type": "markdown",
      "metadata": {
        "id": "NjoJEgU8f7jL",
        "colab_type": "text"
      },
      "source": [
        "\n",
        "\n",
        "V našej práci sme sa rozhodli zamerať na hodnotenie užitočnosti recenzií. Pri nákupe v online obchodoch je častokrát veľmi dôležitý názor na produkt od iných ľudí, ktorí si ho už zakúpili. Tu nám prichádzajú na pomoc recenzie. Nie všetky recenzie sú však relevantné a pomáhajú nám pri rozhodovaní sa o kúpe produktu. Potrebovali by sme preto vedieť, ktoré recenzie užitočné sú a ktoré nie. Jedna možnosť je nechať používateľov označiť recenziu ako užitočnú alebo neužitočnú. Čo keby sme však vedeli predpovedať užitočnosť recenzie len na základe jej obsahu? To je práve úloha na ktorú by sme sa chceli v tomto projekte zamerať. Pomocou neurónových sietí by sme vedeli  predpovedať ako veľmi bude daná recenzia užitočná pre ostatných nakupujúcich. \n",
        "\n",
        "Vďaka našemu riešeniu by sa vedeli recenzie usporiadavať podľa ich užitočnosti, takže najrelevatnejšie recenzie by sa vždy zobrazili ako prvé. To by napomohlo k zníženiu frustrácie z prehľadávania veľkého množstva recenzií a tým pádom aj k zvýšeniu predaja produktov."
      ]
    },
    {
      "cell_type": "markdown",
      "metadata": {
        "id": "apkhzivsepqq",
        "colab_type": "text"
      },
      "source": [
        "### Otvorené otázky"
      ]
    },
    {
      "cell_type": "markdown",
      "metadata": {
        "id": "1XLTScQoqpcg",
        "colab_type": "text"
      },
      "source": [
        "\n",
        "\n",
        "*   Akú hodnotu pri trénovaní treba priradiť danej informácii?\n",
        "*   Aké je optimálne množstvo dát pri trénovaní modelu?\n",
        "*   Ako zachovať čo najväčšiu presnosť modelu pri zmene vstupných dát?\n",
        "\n"
      ]
    },
    {
      "cell_type": "markdown",
      "metadata": {
        "id": "4VFL1Z2tc_FZ",
        "colab_type": "text"
      },
      "source": [
        "## Súvisiace práce"
      ]
    },
    {
      "cell_type": "markdown",
      "metadata": {
        "id": "lbqG1nJVzrxP",
        "colab_type": "text"
      },
      "source": [
        "Po podrobnejšom preskúmaní domény sme zistili, že najčastejším spôsobom ako riešiť tento typ problému je použiť konvolučné neurónové siete, prípadne kombináciu konvolučných a rekurentných neurónových sietí [1,2,4,5]. Z preskúmanej literatúry sme tiež zistili, že existuje množstvo iných modelov a prístupov. V práci Fian Mao a kol. [7] sa zaoberali kombináciou čŕt z textu a metadát o produkte. Použili EG-CNN model, ktorý pracoval so slovnými, znakovými a aspoektovými črtami. Snažili sa tiež o prenos informácií medzi rôznymi doménami, keďže pre niektoré domény existuje len málo recenzií, na ktorých sa dal trénovať model. V práci Dong Deng [3] zase skúmali použitie NGMM (neural Gaussian mixture model). Tento model používa paralelnú neurónovú sieť na extrakciu čŕt z dát a zachytáva interakciu medzi používateľmi a produktami. Erion Çano [6] zase uvádza NgramCNN model, ktorý je vhodnejší pre analýzu sentimentu dlhších textov. To síce v našom projekte asi nebude potrebné, ale pre zaujímavosť by sme mohli vyskúšať aj takýto model. Výhodou tohto modelu je, že je presnejší ako podobné plytké konvolučné siete a hlbšie rekurentné siete. Vo svojej práci tiež opisuje predspracovanie textu, z čoho zaujímavé je sústredenie sa na emotikony, ktoré nám vedia prezradiť náladu používateľa."
      ]
    },
    {
      "cell_type": "markdown",
      "metadata": {
        "id": "ZO9YH_X5Ihua",
        "colab_type": "text"
      },
      "source": [
        "[1]Dos Santos, Cicero, and Maira Gatti. \"Deep convolutional neural networks for sentiment analysis of short texts.\" Proceedings of COLING 2014, the 25th International Conference on Computational Linguistics: Technical Papers. 2014.\n",
        "\n",
        "[2]Wang, Xingyou, Weijie Jiang, and Zhiyong Luo. \"Combination of convolutional and recurrent neural network for sentiment analysis of short texts.\" Proceedings of COLING 2016, the 26th international conference on computational linguistics: Technical papers. 2016.\n",
        "\n",
        "[3]Deng, Dong, et al. \"Neural gaussian mixture model for review-based rating prediction.\" Proceedings of the 12th ACM Conference on Recommender Systems. ACM, 2018.\n",
        "\n",
        "[4] Abdalraouf Hassan and Ausif Mahmood. Deep Learning approach for sen-timent analysis of short texts.  In2017 3rd International Conference onControl, Automation and Robotics (ICCAR), pages 705–710, Nagoya, Ja-pan, April 2017. IEEE.\n",
        "\n",
        "[5] Yongcheon Park, Jeongmin Park, Eunkyong Lee, Kyoungchul Lee, and Ji-man Hong. Deep learning based customer product rating prediction model.InProceedings of the 2018 Conference on Research in Adaptive and Con-vergent Systems - RACS ’18, pages 203–204, Honolulu, Hawaii, 2018. ACMPress.\n",
        "\n",
        "[6] Erion Çano and Maurizio Morisio. A deep learning architecture for sentimentanalysis. InProceedings of the International Conference on Geoinformaticsand Data Analysis - ICGDA ’18, pages 122–126, Prague, Czech Republic,2018. ACM Press\n",
        "\n",
        "[7] Miao Fan, Chao Feng, Lin Guo, Mingming Sun, and Ping Li.  Product-Aware Helpfulness Prediction of Online Reviews. InThe World Wide WebConference on - WWW ’19, pages 2715–2721, San Francisco, CA, USA,2019. ACM Press."
      ]
    },
    {
      "cell_type": "markdown",
      "metadata": {
        "id": "U6vPC3fIdIQe",
        "colab_type": "text"
      },
      "source": [
        "## Datasety"
      ]
    },
    {
      "cell_type": "markdown",
      "metadata": {
        "id": "aY6T7UHTfGeF",
        "colab_type": "text"
      },
      "source": [
        "### Výber datasetu"
      ]
    },
    {
      "cell_type": "markdown",
      "metadata": {
        "id": "yYBMDGd18YxR",
        "colab_type": "text"
      },
      "source": [
        "Po náhľade do rôznych datasetov sme sa rozhodli vybrať dataset obsahujúci používateľské recenzie na produkty zakúpené z Amazonu, najväčšej e-commerce spoločnosti (slovensky \"elektronický obchod\"). Zvolili sme si podmnožinu hlavného datasetu zameranú na kancelárske produkty. \n",
        "\n",
        "Dataset sme vybrali z množiny nasledujúcich datasetov:\n",
        "https://cseweb.ucsd.edu/~jmcauley/datasets.html#goodreads\n",
        "\n",
        "Dataset je možné stiahnuť z nasledujúceho zdroja: http://snap.stanford.edu/data/amazon/productGraph/categoryFiles/reviews_Office_Products_5.json.gz\n",
        "\n",
        "Bližšie informácie o datasete ako aj podobné datasety je možné nájsť na nasledujúcom zdroji: http://jmcauley.ucsd.edu/data/amazon/index.html"
      ]
    },
    {
      "cell_type": "markdown",
      "metadata": {
        "id": "WobgBIa4fQIT",
        "colab_type": "text"
      },
      "source": [
        "### Opis datasetu a dát"
      ]
    },
    {
      "cell_type": "markdown",
      "metadata": {
        "id": "DLkJGD7w92Vd",
        "colab_type": "text"
      },
      "source": [
        "Dataset obsahuje 53 258 používateľských recenzií. Každá recenzia obsahuje 9 atribútov. \n",
        "Dataset je predpripravený tak, aby obsahoval používateľov, ktorí urobili K recenzií a produktov, ktoré boli ohodnotené K krát.\n",
        "V našom prípade sa K rovná hodnote 5.\n",
        "\n",
        "Ukážka:\n",
        "{\n",
        "  \"reviewerID\": \"A2SUAM1J3GNN3B\",\n",
        "  \"asin\": \"0000013714\",\n",
        "  \"reviewerName\": \"J. McDonald\",\n",
        "  \"helpful\": [2, 3],\n",
        "  \"reviewText\": \"I bought this for my husband who plays the piano.  He is having a wonderful time playing these old hymns.  The music  is at times hard to read because we think the book was published for singing from more than playing from.  Great purchase though!\",\n",
        "  \"overall\": 5.0,\n",
        "  \"summary\": \"Heavenly Highway Hymns\",\n",
        "  \"unixReviewTime\": 1252800000,\n",
        "  \"reviewTime\": \"09 13, 2009\"\n",
        "}"
      ]
    },
    {
      "cell_type": "markdown",
      "metadata": {
        "id": "Aaf-gTK7dMMr",
        "colab_type": "text"
      },
      "source": [
        "## Návrh vysokoúrovňového riešenia"
      ]
    },
    {
      "cell_type": "markdown",
      "metadata": {
        "id": "-kQpJALjfhJL",
        "colab_type": "text"
      },
      "source": [
        "### Architektúra modelu"
      ]
    },
    {
      "cell_type": "markdown",
      "metadata": {
        "id": "SisgwtYm38-R",
        "colab_type": "text"
      },
      "source": [
        "Je dôležité zvoliť vhodnú architektúru tak, aby sme docielili tri hlavné ciele:\n",
        "\n",
        "*   architektúra by mala byť prispôsobená typu a formátu vstupných dát\n",
        "*   architektúra musí mať dostatočná veľkosť na čo najlepšiu aprofimáciu funkcie záujmu na základe vstupných dát\n",
        "*   architektúra by nemala byť priveľká, aby natrénovanie modelu netrvalo neadekvátne dlhý čas\n",
        "\n",
        "V našom projekte sa budeme jednoduchými rekurentnými aj konvolučnými modelmi na analýzu textu recenzií a následnú predikciu ich užitočnosti.\n",
        "\n"
      ]
    },
    {
      "cell_type": "markdown",
      "metadata": {
        "id": "d_tcV4LefjQ7",
        "colab_type": "text"
      },
      "source": [
        "### Možné experimenty"
      ]
    },
    {
      "cell_type": "code",
      "metadata": {
        "id": "ltc-p1m9cPKb",
        "colab_type": "code",
        "colab": {}
      },
      "source": [
        ""
      ],
      "execution_count": 0,
      "outputs": []
    }
  ]
}