{
  "nbformat": 4,
  "nbformat_minor": 0,
  "metadata": {
    "colab": {
      "name": "NS_proposal.ipynb",
      "provenance": [],
      "collapsed_sections": [],
      "include_colab_link": true
    },
    "kernelspec": {
      "name": "python3",
      "display_name": "Python 3"
    }
  },
  "cells": [
    {
      "cell_type": "markdown",
      "metadata": {
        "id": "view-in-github",
        "colab_type": "text"
      },
      "source": [
        "<a href=\"https://colab.research.google.com/github/martinahanakova/nsiete-hanakova-kratky/blob/master/NS_proposal.ipynb\" target=\"_parent\"><img src=\"https://colab.research.google.com/assets/colab-badge.svg\" alt=\"Open In Colab\"/></a>"
      ]
    },
    {
      "cell_type": "markdown",
      "metadata": {
        "id": "hyEGUD7XcYYA",
        "colab_type": "text"
      },
      "source": [
        "# Neurónové siete - projekt - úvodný dokument\n",
        "\n"
      ]
    },
    {
      "cell_type": "markdown",
      "metadata": {
        "id": "GkDxVPVmcyX2",
        "colab_type": "text"
      },
      "source": [
        "## Motivácia"
      ]
    },
    {
      "cell_type": "markdown",
      "metadata": {
        "id": "drOTZxw-eTsg",
        "colab_type": "text"
      },
      "source": [
        "### Riešená Úloha"
      ]
    },
    {
      "cell_type": "markdown",
      "metadata": {
        "id": "RwnK25cugR5V",
        "colab_type": "text"
      },
      "source": [
        "Rozhodli sme sa pre natrénovanie modelu odporúčania. Táto téma sa nám javí zaujímavá a vhodná na zlepšovanie našich schopností v oblasti neurónových sietí."
      ]
    },
    {
      "cell_type": "markdown",
      "metadata": {
        "id": "JsWAAphjedue",
        "colab_type": "text"
      },
      "source": [
        "### Prečo je daná úloha dôležitá?"
      ]
    },
    {
      "cell_type": "markdown",
      "metadata": {
        "id": "IaNGtmfIn052",
        "colab_type": "text"
      },
      "source": [
        "Žijeme v dobe, kedy je spoločnosť obklopená veľkým množstvom informácií. Tento fakt má svoje výjody aj nevýhody. Nevýhodou je preinformovanosť, ktorá je týmto nožstvom vytvorená - sociálne siete, maily, reklamy (či už na billboardoch na ulici alebo v našej fyzickej či emailovej schránke) a množstvo iných dát, ktoré nás neustále zaplavujú spôsobujú únavu, frustráciu, občas dokonca aj averziu voči prijímaniu ďalších informácií. Výhodou však je, že máme na dosah ruky takmer akúkoľvek informáciu či produkt, aký potrebujeme.\n",
        "\n",
        "Z tejto problematiky vyplýva naša motivácia - pre efektívne a pohodlné využitie dostupných informácii a minimalizáciu frustrácie z preinformovanosti je nevyhnutné použitie čo najpresnejších modelov odporúčania, ktoré nám umožnia čo najkvalitnejšiu úroveň personalizácie pre akúkoľvek doménu.\n",
        "\n",
        "S pojmom \"personalizácia\" sa obvykle spája pojem \"odporúčanie\". Našim cieľom je preto vytvoriť a natrénovať (pre vybranú doménu) čo najlepší model odporúčania, ktorý by pri použití v praxi umožnil čo najvyššiu úroveň personalizácie, ktorá zo sebou prináša spomínané pozitíva."
      ]
    },
    {
      "cell_type": "markdown",
      "metadata": {
        "id": "apkhzivsepqq",
        "colab_type": "text"
      },
      "source": [
        "### Otvorené otázky"
      ]
    },
    {
      "cell_type": "markdown",
      "metadata": {
        "id": "1XLTScQoqpcg",
        "colab_type": "text"
      },
      "source": [
        "\n",
        "\n",
        "*   Akú hodnotu pri trénovaní treba priradiť danej informácii?\n",
        "*   Aké je optimálne množstvo dát pri trénovaní modelu?\n",
        "*   Ako zachovať čo najväčšiu presnosť modelu pri zmene vstupných dát?\n",
        "\n"
      ]
    },
    {
      "cell_type": "markdown",
      "metadata": {
        "id": "4VFL1Z2tc_FZ",
        "colab_type": "text"
      },
      "source": [
        "## Podobná práca"
      ]
    },
    {
      "cell_type": "markdown",
      "metadata": {
        "id": "lbqG1nJVzrxP",
        "colab_type": "text"
      },
      "source": [
        ""
      ]
    },
    {
      "cell_type": "markdown",
      "metadata": {
        "id": "U6vPC3fIdIQe",
        "colab_type": "text"
      },
      "source": [
        "## Datasety"
      ]
    },
    {
      "cell_type": "markdown",
      "metadata": {
        "id": "aY6T7UHTfGeF",
        "colab_type": "text"
      },
      "source": [
        "### Výber datasetu"
      ]
    },
    {
      "cell_type": "markdown",
      "metadata": {
        "id": "yYBMDGd18YxR",
        "colab_type": "text"
      },
      "source": [
        "Po náhľade do rôznych datasetov sme sa rozhodli vybrať dataset obsahujúci používateľské recenzie na produkty zakúpené z Amazonu, najväčšej e-commerce spoločnosti (slovensky \"elektronický obchod\"). Zvolili sme si podmnožinu hlavného datasetu zameranú na kancelárske produkty. \n",
        "\n",
        "Dataset sme vybrali z množiny nasledujúcich datasetov:\n",
        "https://cseweb.ucsd.edu/~jmcauley/datasets.html#goodreads\n",
        "\n",
        "Dataset je možné stiahnuť z nasledujúceho zdroja: http://snap.stanford.edu/data/amazon/productGraph/categoryFiles/reviews_Office_Products_5.json.gz\n",
        "\n",
        "Bližšie informácie o datasete ako aj podobné datasety je možné nájsť na nasledujúcom zdroji: http://jmcauley.ucsd.edu/data/amazon/index.html"
      ]
    },
    {
      "cell_type": "markdown",
      "metadata": {
        "id": "WobgBIa4fQIT",
        "colab_type": "text"
      },
      "source": [
        "### Opis datasetu a dát"
      ]
    },
    {
      "cell_type": "markdown",
      "metadata": {
        "id": "DLkJGD7w92Vd",
        "colab_type": "text"
      },
      "source": [
        "Dataset obsahuje 53 258 používateľských recenzií. Každá recenzia obsahuje 9 atribútov. \n",
        "Dataset je predpripravený tak, aby obsahoval používateľov, ktorí urobili K recenzií a produktov, ktoré boli ohodnotené K krát.\n",
        "V našom prípade sa K rovná hodnote 5.\n",
        "\n",
        "Ukážka:\n",
        "{\n",
        "  \"reviewerID\": \"A2SUAM1J3GNN3B\",\n",
        "  \"asin\": \"0000013714\",\n",
        "  \"reviewerName\": \"J. McDonald\",\n",
        "  \"helpful\": [2, 3],\n",
        "  \"reviewText\": \"I bought this for my husband who plays the piano.  He is having a wonderful time playing these old hymns.  The music  is at times hard to read because we think the book was published for singing from more than playing from.  Great purchase though!\",\n",
        "  \"overall\": 5.0,\n",
        "  \"summary\": \"Heavenly Highway Hymns\",\n",
        "  \"unixReviewTime\": 1252800000,\n",
        "  \"reviewTime\": \"09 13, 2009\"\n",
        "}"
      ]
    },
    {
      "cell_type": "markdown",
      "metadata": {
        "id": "Aaf-gTK7dMMr",
        "colab_type": "text"
      },
      "source": [
        "## Návrh vysokoúrovňového riešenia"
      ]
    },
    {
      "cell_type": "markdown",
      "metadata": {
        "id": "-kQpJALjfhJL",
        "colab_type": "text"
      },
      "source": [
        "### Architektúra modelu"
      ]
    },
    {
      "cell_type": "markdown",
      "metadata": {
        "id": "SisgwtYm38-R",
        "colab_type": "text"
      },
      "source": [
        "Je dôležité zvoliť vhodnú architektúru tak, aby sme docielili dva hlavné ciele:\n",
        "\n",
        "*   architektúra by mala byť prispôsobená typu a formátu vstupných dát\n",
        "*   architektúra musí mať dostatočná veľkosť na čo najlepšiu aprofimáciu funkcie záujmu na základe vstupných dát\n",
        "*   architektúra by nemala byť priveľká, aby natrénovanie modelu netrvalo neadekvátne dlhý čas\n",
        "\n"
      ]
    },
    {
      "cell_type": "markdown",
      "metadata": {
        "id": "d_tcV4LefjQ7",
        "colab_type": "text"
      },
      "source": [
        "### Možné experimenty"
      ]
    },
    {
      "cell_type": "code",
      "metadata": {
        "id": "ltc-p1m9cPKb",
        "colab_type": "code",
        "colab": {}
      },
      "source": [
        ""
      ],
      "execution_count": 0,
      "outputs": []
    }
  ]
}