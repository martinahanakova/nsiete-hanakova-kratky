{
  "nbformat": 4,
  "nbformat_minor": 0,
  "metadata": {
    "colab": {
      "name": "Copy of NS_project_documentation.ipynb",
      "provenance": [],
      "collapsed_sections": [
        "-kQpJALjfhJL",
        "Q8KPDzbQRgmi",
        "VZXKBfwRRp-7",
        "NFoACXCSTMSn",
        "q3bCFH1UTTfl",
        "b7XRWoquTTxA",
        "wbhi44MFTUCg",
        "G1LoX1MrTkCG",
        "JL6FOXecTUQx",
        "FvcbqPFGRosR",
        "2zvYY4ifQ6_6",
        "IEc_xOHAXgKc",
        "VYcjVqC-_cuG",
        "E-wxaDVf_jxN"
      ],
      "toc_visible": true
    },
    "kernelspec": {
      "name": "python3",
      "display_name": "Python 3"
    }
  },
  "cells": [
    {
      "cell_type": "markdown",
      "metadata": {
        "id": "hyEGUD7XcYYA",
        "colab_type": "text"
      },
      "source": [
        "#**Neurónové siete - dokumentácia projektu**\n"
      ]
    },
    {
      "cell_type": "markdown",
      "metadata": {
        "id": "vu1V39pfbrXH",
        "colab_type": "text"
      },
      "source": [
        "Marek Krátky,\n",
        "Martina Hanáková"
      ]
    },
    {
      "cell_type": "markdown",
      "metadata": {
        "id": "GkDxVPVmcyX2",
        "colab_type": "text"
      },
      "source": [
        "# Motivácia"
      ]
    },
    {
      "cell_type": "markdown",
      "metadata": {
        "id": "RwnK25cugR5V",
        "colab_type": "text"
      },
      "source": [
        "\n",
        "\n",
        "V našej práci sme sa rozhodli zamerať na hodnotenie užitočnosti recenzií. Pri nákupe v online obchodoch je častokrát veľmi dôležitý názor na produkt od iných ľudí, ktorí si ho už zakúpili. Tu nám prichádzajú na pomoc recenzie. Nie všetky recenzie sú však relevantné a pomáhajú nám pri rozhodovaní sa o kúpe produktu. Potrebovali by sme preto vedieť, ktoré recenzie užitočné sú a ktoré nie. Jedna možnosť je nechať používateľov označiť recenziu ako užitočnú alebo neužitočnú. Čo keby sme však vedeli predpovedať užitočnosť recenzie len na základe jej obsahu? To je práve úloha, na ktorú by sme sa chceli v tomto projekte zamerať. Pomocou neurónových sietí by sme vedeli  predpovedať, ako veľmi bude daná recenzia užitočná pre ostatných nakupujúcich. \n",
        "\n",
        "Vďaka našemu riešeniu by sa vedeli recenzie usporiadavať podľa ich užitočnosti, takže najrelevatnejšie recenzie by sa vždy zobrazili ako prvé. To by napomohlo k zníženiu frustrácie z prehľadávania veľkého množstva recenzií a tým pádom aj k zvýšeniu predaja produktov."
      ]
    },
    {
      "cell_type": "markdown",
      "metadata": {
        "id": "apkhzivsepqq",
        "colab_type": "text"
      },
      "source": [
        "### Otvorené otázky"
      ]
    },
    {
      "cell_type": "markdown",
      "metadata": {
        "id": "1XLTScQoqpcg",
        "colab_type": "text"
      },
      "source": [
        "\n",
        "\n",
        "*   Akú hodnotu pri trénovaní treba priradiť danej informácii?\n",
        "*   Aké je optimálne množstvo dát pri trénovaní modelu?\n",
        "*   Ako zachovať čo najväčšiu presnosť modelu pri zmene vstupných dát?\n",
        "\n"
      ]
    },
    {
      "cell_type": "markdown",
      "metadata": {
        "id": "4VFL1Z2tc_FZ",
        "colab_type": "text"
      },
      "source": [
        "## Súvisiace práce"
      ]
    },
    {
      "cell_type": "markdown",
      "metadata": {
        "id": "lbqG1nJVzrxP",
        "colab_type": "text"
      },
      "source": [
        "Po podrobnejšom preskúmaní domény sme zistili, že najčastejším spôsobom ako riešiť tento typ problému je použiť konvolučné neurónové siete, prípadne kombináciu konvolučných a rekurentných neurónových sietí [1,2,4,5]. Z preskúmanej literatúry sme tiež zistili, že existuje množstvo iných modelov a prístupov. V práci Fian Mao a kol. [7] sa zaoberali kombináciou čŕt z textu a metadát o produkte. Použili EG-CNN model, ktorý pracoval so slovnými, znakovými a aspektovými črtami. Snažili sa tiež o prenos informácií medzi rôznymi doménami, keďže pre niektoré domény existuje len málo recenzií, na ktorých sa dal trénovať model. V práci Dong Deng [3] zase skúmali použitie NGMM (neural Gaussian mixture model). Tento model používa paralelnú neurónovú sieť na extrakciu čŕt z dát a zachytáva interakciu medzi používateľmi a produktami. Erion Çano [6] zase uvádza NgramCNN model, ktorý je vhodnejší pre analýzu sentimentu dlhších textov. To síce v našom projekte asi nebude potrebné, ale pre zaujímavosť by sme mohli vyskúšať aj takýto model. Výhodou tohto modelu je, že je presnejší ako podobné plytké konvolučné siete a hlbšie rekurentné siete. Vo svojej práci tiež opisuje predspracovanie textu, z čoho zaujímavé je sústredenie sa na emotikony, ktoré nám vedia prezradiť náladu používateľa."
      ]
    },
    {
      "cell_type": "markdown",
      "metadata": {
        "id": "Ex6nLge_cIHK",
        "colab_type": "text"
      },
      "source": [
        "[1]Dos Santos, Cicero, and Maira Gatti. \"Deep convolutional neural networks for sentiment analysis of short texts.\" Proceedings of COLING 2014, the 25th International Conference on Computational Linguistics: Technical Papers. 2014.\n",
        "\n",
        "[2]Wang, Xingyou, Weijie Jiang, and Zhiyong Luo. \"Combination of convolutional and recurrent neural network for sentiment analysis of short texts.\" Proceedings of COLING 2016, the 26th international conference on computational linguistics: Technical papers. 2016.\n",
        "\n",
        "[3]Deng, Dong, et al. \"Neural gaussian mixture model for review-based rating prediction.\" Proceedings of the 12th ACM Conference on Recommender Systems. ACM, 2018.\n",
        "\n",
        "[4] Abdalraouf Hassan and Ausif Mahmood. Deep Learning approach for sen-timent analysis of short texts.  In2017 3rd International Conference onControl, Automation and Robotics (ICCAR), pages 705–710, Nagoya, Ja-pan, April 2017. IEEE.\n",
        "\n",
        "[5] Yongcheon Park, Jeongmin Park, Eunkyong Lee, Kyoungchul Lee, and Ji-man Hong. Deep learning based customer product rating prediction model.InProceedings of the 2018 Conference on Research in Adaptive and Con-vergent Systems - RACS ’18, pages 203–204, Honolulu, Hawaii, 2018. ACMPress.\n",
        "\n",
        "[6] Erion Çano and Maurizio Morisio. A deep learning architecture for sentimentanalysis. InProceedings of the International Conference on Geoinformaticsand Data Analysis - ICGDA ’18, pages 122–126, Prague, Czech Republic,2018. ACM Press\n",
        "\n",
        "[7] Miao Fan, Chao Feng, Lin Guo, Mingming Sun, and Ping Li.  Product-Aware Helpfulness Prediction of Online Reviews. InThe World Wide WebConference on - WWW ’19, pages 2715–2721, San Francisco, CA, USA,2019. ACM Press.\n",
        "\n",
        "[8] Zhou, Peng, et al. \"Text classification improved by integrating bidirectional LSTM with two-dimensional max pooling.\" arXiv preprint arXiv:1611.06639 (2016)."
      ]
    },
    {
      "cell_type": "markdown",
      "metadata": {
        "id": "U6vPC3fIdIQe",
        "colab_type": "text"
      },
      "source": [
        "## Datasety"
      ]
    },
    {
      "cell_type": "markdown",
      "metadata": {
        "id": "aY6T7UHTfGeF",
        "colab_type": "text"
      },
      "source": [
        "### Výber datasetu"
      ]
    },
    {
      "cell_type": "markdown",
      "metadata": {
        "id": "yYBMDGd18YxR",
        "colab_type": "text"
      },
      "source": [
        "Po náhľade do rôznych datasetov sme sa rozhodli vybrať dataset obsahujúci používateľské recenzie na produkty zakúpené z Amazonu, najväčšej e-commerce spoločnosti (slovensky \"elektronický obchod\"). Zvolili sme si podmnožinu hlavného datasetu zameranú na kancelárske produkty. \n",
        "\n",
        "Dataset sme vybrali z množiny nasledujúcich datasetov:\n",
        "https://cseweb.ucsd.edu/~jmcauley/datasets.html#goodreads\n",
        "\n",
        "Dataset je možné stiahnuť z nasledujúceho zdroja: http://snap.stanford.edu/data/amazon/productGraph/categoryFiles/reviews_Office_Products_5.json.gz\n",
        "\n",
        "Bližšie informácie o datasete ako aj podobné datasety je možné nájsť na nasledujúcom zdroji: http://jmcauley.ucsd.edu/data/amazon/index.html"
      ]
    },
    {
      "cell_type": "markdown",
      "metadata": {
        "id": "WobgBIa4fQIT",
        "colab_type": "text"
      },
      "source": [
        "### Opis datasetu a dát"
      ]
    },
    {
      "cell_type": "markdown",
      "metadata": {
        "id": "DLkJGD7w92Vd",
        "colab_type": "text"
      },
      "source": [
        "Dataset obsahuje 53 258 používateľských recenzií. Každá recenzia obsahuje 9 atribútov. \n",
        "Dataset je predpripravený tak, aby obsahoval používateľov, ktorí urobili K recenzií a produktov, ktoré boli ohodnotené K krát.\n",
        "V našom prípade sa K rovná hodnote 5.\n",
        "\n",
        "Ukážka:\n",
        "{\n",
        "  \"reviewerID\": \"A2SUAM1J3GNN3B\",\n",
        "  \"asin\": \"0000013714\",\n",
        "  \"reviewerName\": \"J. McDonald\",\n",
        "  \"helpful\": [2, 3],\n",
        "  \"reviewText\": \"I bought this for my husband who plays the piano.  He is having a wonderful time playing these old hymns.  The music  is at times hard to read because we think the book was published for singing from more than playing from.  Great purchase though!\",\n",
        "  \"overall\": 5.0,\n",
        "  \"summary\": \"Heavenly Highway Hymns\",\n",
        "  \"unixReviewTime\": 1252800000,\n",
        "  \"reviewTime\": \"09 13, 2009\"\n",
        "}"
      ]
    },
    {
      "cell_type": "markdown",
      "metadata": {
        "id": "Aaf-gTK7dMMr",
        "colab_type": "text"
      },
      "source": [
        "## Návrh vysokoúrovňového riešenia"
      ]
    },
    {
      "cell_type": "markdown",
      "metadata": {
        "id": "-kQpJALjfhJL",
        "colab_type": "text"
      },
      "source": [
        "### Architektúra modelu"
      ]
    },
    {
      "cell_type": "markdown",
      "metadata": {
        "id": "SisgwtYm38-R",
        "colab_type": "text"
      },
      "source": [
        "Je dôležité zvoliť vhodnú architektúru tak, aby sme docielili tri hlavné ciele:\n",
        "\n",
        "*   architektúra by mala byť prispôsobená typu a formátu vstupných dát\n",
        "*   architektúra musí mať dostatočná veľkosť na čo najlepšiu aprofimáciu funkcie záujmu na základe vstupných dát\n",
        "*   architektúra by nemala byť priveľká, aby natrénovanie modelu netrvalo neadekvátne dlhý čas\n",
        "\n",
        "V našom projekte sa budeme zaoberať jednoduchými rekurentnými aj konvolučnými modelmi na analýzu textu recenzií a následnú predikciu ich užitočnosti.\n",
        "\n"
      ]
    },
    {
      "cell_type": "markdown",
      "metadata": {
        "id": "Q8KPDzbQRgmi",
        "colab_type": "text"
      },
      "source": [
        "# Prieskumná analýza"
      ]
    },
    {
      "cell_type": "code",
      "metadata": {
        "id": "ma0zZFgjOvPh",
        "colab_type": "code",
        "outputId": "6f9c05c7-4342-487a-e4ca-bb0986480de6",
        "colab": {
          "base_uri": "https://localhost:8080/",
          "height": 126
        }
      },
      "source": [
        "from google.colab import drive\n",
        "drive.mount('/content/drive/')"
      ],
      "execution_count": 0,
      "outputs": [
        {
          "output_type": "stream",
          "text": [
            "Go to this URL in a browser: https://accounts.google.com/o/oauth2/auth?client_id=947318989803-6bn6qk8qdgf4n4g3pfee6491hc0brc4i.apps.googleusercontent.com&redirect_uri=urn%3aietf%3awg%3aoauth%3a2.0%3aoob&response_type=code&scope=email%20https%3a%2f%2fwww.googleapis.com%2fauth%2fdocs.test%20https%3a%2f%2fwww.googleapis.com%2fauth%2fdrive%20https%3a%2f%2fwww.googleapis.com%2fauth%2fdrive.photos.readonly%20https%3a%2f%2fwww.googleapis.com%2fauth%2fpeopleapi.readonly\n",
            "\n",
            "Enter your authorization code:\n",
            "··········\n",
            "Mounted at /content/drive/\n"
          ],
          "name": "stdout"
        }
      ]
    },
    {
      "cell_type": "code",
      "metadata": {
        "id": "x1r5rupTPpqh",
        "colab_type": "code",
        "colab": {}
      },
      "source": [
        "import pandas as pd\n",
        "import numpy as np\n",
        "import seaborn as sb\n",
        "import json\n",
        "import keras\n",
        "from scipy.stats import linregress as lr\n",
        "\n"
      ],
      "execution_count": 0,
      "outputs": []
    },
    {
      "cell_type": "code",
      "metadata": {
        "id": "bh1x9X0mPptd",
        "colab_type": "code",
        "colab": {}
      },
      "source": [
        "data = pd.read_json('/content/drive/My Drive/app/dataset/Office_Products.json', lines=True)"
      ],
      "execution_count": 0,
      "outputs": []
    },
    {
      "cell_type": "markdown",
      "metadata": {
        "id": "VZXKBfwRRp-7",
        "colab_type": "text"
      },
      "source": [
        "### Veľkosť datasetu a prvotný pohľad\n",
        "\n",
        "Náš dataset obsahuje používateľské recenzie na produkty zakúpené z Amazonu. Zvolili sme si podmnožinu hlavného datasetu zameranú na kancelárske produkty. Dataset obsahuje 53258 záznamov (recenzií) a 9 atribútov. \n",
        "\n",
        "Medzi najzaujímavejšie atribúty pre nás patrí `helpful`, `reviewText`, `overall` a `summary`. "
      ]
    },
    {
      "cell_type": "code",
      "metadata": {
        "id": "xjd3lBypPpwb",
        "colab_type": "code",
        "outputId": "b86bc134-d31b-4fbe-a37d-e3dcc3f19eac",
        "colab": {
          "base_uri": "https://localhost:8080/",
          "height": 35
        }
      },
      "source": [
        "len(data.index)"
      ],
      "execution_count": 0,
      "outputs": [
        {
          "output_type": "execute_result",
          "data": {
            "text/plain": [
              "53258"
            ]
          },
          "metadata": {
            "tags": []
          },
          "execution_count": 5
        }
      ]
    },
    {
      "cell_type": "code",
      "metadata": {
        "id": "DFyi82xBPpzC",
        "colab_type": "code",
        "outputId": "b01f4d5d-0c19-49bf-e273-072bc92d6cad",
        "colab": {
          "base_uri": "https://localhost:8080/",
          "height": 35
        }
      },
      "source": [
        "len(data.columns)"
      ],
      "execution_count": 0,
      "outputs": [
        {
          "output_type": "execute_result",
          "data": {
            "text/plain": [
              "9"
            ]
          },
          "metadata": {
            "tags": []
          },
          "execution_count": 6
        }
      ]
    },
    {
      "cell_type": "code",
      "metadata": {
        "id": "d26E_SbqROsA",
        "colab_type": "code",
        "outputId": "62427279-17c8-4da7-c362-756d1709a738",
        "colab": {
          "base_uri": "https://localhost:8080/",
          "height": 285
        }
      },
      "source": [
        "data.head()"
      ],
      "execution_count": 0,
      "outputs": [
        {
          "output_type": "execute_result",
          "data": {
            "text/html": [
              "<div>\n",
              "<style scoped>\n",
              "    .dataframe tbody tr th:only-of-type {\n",
              "        vertical-align: middle;\n",
              "    }\n",
              "\n",
              "    .dataframe tbody tr th {\n",
              "        vertical-align: top;\n",
              "    }\n",
              "\n",
              "    .dataframe thead th {\n",
              "        text-align: right;\n",
              "    }\n",
              "</style>\n",
              "<table border=\"1\" class=\"dataframe\">\n",
              "  <thead>\n",
              "    <tr style=\"text-align: right;\">\n",
              "      <th></th>\n",
              "      <th>reviewerID</th>\n",
              "      <th>asin</th>\n",
              "      <th>reviewerName</th>\n",
              "      <th>helpful</th>\n",
              "      <th>reviewText</th>\n",
              "      <th>overall</th>\n",
              "      <th>summary</th>\n",
              "      <th>unixReviewTime</th>\n",
              "      <th>reviewTime</th>\n",
              "    </tr>\n",
              "  </thead>\n",
              "  <tbody>\n",
              "    <tr>\n",
              "      <th>0</th>\n",
              "      <td>A32T2H8150OJLU</td>\n",
              "      <td>B00000JBLH</td>\n",
              "      <td>ARH</td>\n",
              "      <td>[3, 4]</td>\n",
              "      <td>I bought my first HP12C in about 1984 or so, a...</td>\n",
              "      <td>5</td>\n",
              "      <td>A solid performer, and long time friend</td>\n",
              "      <td>1094169600</td>\n",
              "      <td>09 3, 2004</td>\n",
              "    </tr>\n",
              "    <tr>\n",
              "      <th>1</th>\n",
              "      <td>A3MAFS04ZABRGO</td>\n",
              "      <td>B00000JBLH</td>\n",
              "      <td>Let it Be \"Alan\"</td>\n",
              "      <td>[7, 9]</td>\n",
              "      <td>WHY THIS BELATED REVIEW? I feel very obliged t...</td>\n",
              "      <td>5</td>\n",
              "      <td>Price of GOLD is up, so don't bury the golden ...</td>\n",
              "      <td>1197676800</td>\n",
              "      <td>12 15, 2007</td>\n",
              "    </tr>\n",
              "    <tr>\n",
              "      <th>2</th>\n",
              "      <td>A1F1A0QQP2XVH5</td>\n",
              "      <td>B00000JBLH</td>\n",
              "      <td>Mark B</td>\n",
              "      <td>[3, 3]</td>\n",
              "      <td>I have an HP 48GX that has been kicking for mo...</td>\n",
              "      <td>2</td>\n",
              "      <td>Good functionality, but not durable like old HPs</td>\n",
              "      <td>1293840000</td>\n",
              "      <td>01 1, 2011</td>\n",
              "    </tr>\n",
              "    <tr>\n",
              "      <th>3</th>\n",
              "      <td>A49R5DBXXQDE5</td>\n",
              "      <td>B00000JBLH</td>\n",
              "      <td>R. D Johnson</td>\n",
              "      <td>[7, 8]</td>\n",
              "      <td>I've started doing more finance stuff recently...</td>\n",
              "      <td>5</td>\n",
              "      <td>One of the last of an almost extinct species</td>\n",
              "      <td>1145404800</td>\n",
              "      <td>04 19, 2006</td>\n",
              "    </tr>\n",
              "    <tr>\n",
              "      <th>4</th>\n",
              "      <td>A2XRMQA6PJ5ZJ8</td>\n",
              "      <td>B00000JBLH</td>\n",
              "      <td>Roger J. Buffington</td>\n",
              "      <td>[0, 0]</td>\n",
              "      <td>For simple calculations and discounted cash fl...</td>\n",
              "      <td>5</td>\n",
              "      <td>Still the best</td>\n",
              "      <td>1375574400</td>\n",
              "      <td>08 4, 2013</td>\n",
              "    </tr>\n",
              "  </tbody>\n",
              "</table>\n",
              "</div>"
            ],
            "text/plain": [
              "       reviewerID        asin  ... unixReviewTime   reviewTime\n",
              "0  A32T2H8150OJLU  B00000JBLH  ...     1094169600   09 3, 2004\n",
              "1  A3MAFS04ZABRGO  B00000JBLH  ...     1197676800  12 15, 2007\n",
              "2  A1F1A0QQP2XVH5  B00000JBLH  ...     1293840000   01 1, 2011\n",
              "3   A49R5DBXXQDE5  B00000JBLH  ...     1145404800  04 19, 2006\n",
              "4  A2XRMQA6PJ5ZJ8  B00000JBLH  ...     1375574400   08 4, 2013\n",
              "\n",
              "[5 rows x 9 columns]"
            ]
          },
          "metadata": {
            "tags": []
          },
          "execution_count": 7
        }
      ]
    },
    {
      "cell_type": "code",
      "metadata": {
        "id": "5cBWnD3_zx83",
        "colab_type": "code",
        "outputId": "3374ad0a-7b8e-4822-8d98-5ba4d14ead3e",
        "colab": {
          "base_uri": "https://localhost:8080/",
          "height": 266
        }
      },
      "source": [
        "data.info()"
      ],
      "execution_count": 0,
      "outputs": [
        {
          "output_type": "stream",
          "text": [
            "<class 'pandas.core.frame.DataFrame'>\n",
            "RangeIndex: 53258 entries, 0 to 53257\n",
            "Data columns (total 9 columns):\n",
            "reviewerID        53258 non-null object\n",
            "asin              53258 non-null object\n",
            "reviewerName      52799 non-null object\n",
            "helpful           53258 non-null object\n",
            "reviewText        53258 non-null object\n",
            "overall           53258 non-null int64\n",
            "summary           53258 non-null object\n",
            "unixReviewTime    53258 non-null int64\n",
            "reviewTime        53258 non-null object\n",
            "dtypes: int64(2), object(7)\n",
            "memory usage: 3.7+ MB\n"
          ],
          "name": "stdout"
        }
      ]
    },
    {
      "cell_type": "markdown",
      "metadata": {
        "id": "NFoACXCSTMSn",
        "colab_type": "text"
      },
      "source": [
        "### reviewerID"
      ]
    },
    {
      "cell_type": "markdown",
      "metadata": {
        "id": "5aia4YVryJAd",
        "colab_type": "text"
      },
      "source": [
        "Unikátny identifikátor používateľa, ktorý recenziu napísal."
      ]
    },
    {
      "cell_type": "code",
      "metadata": {
        "id": "fofH9R86YAwo",
        "colab_type": "code",
        "outputId": "b13cb0bd-3386-42ba-ac62-0de28c9e7091",
        "colab": {
          "base_uri": "https://localhost:8080/",
          "height": 35
        }
      },
      "source": [
        "len(data.reviewerID.unique())"
      ],
      "execution_count": 0,
      "outputs": [
        {
          "output_type": "execute_result",
          "data": {
            "text/plain": [
              "4905"
            ]
          },
          "metadata": {
            "tags": []
          },
          "execution_count": 9
        }
      ]
    },
    {
      "cell_type": "code",
      "metadata": {
        "id": "-V8XyMlo6vfE",
        "colab_type": "code",
        "outputId": "89702a87-e700-4399-b796-e369f151d969",
        "colab": {
          "base_uri": "https://localhost:8080/",
          "height": 230
        }
      },
      "source": [
        "data.reviewerID.value_counts()"
      ],
      "execution_count": 0,
      "outputs": [
        {
          "output_type": "execute_result",
          "data": {
            "text/plain": [
              "A3OXHLG6DIBRW8    94\n",
              "A22I55P15NSAOX    81\n",
              "A1Z16630QMH8Q6    77\n",
              "A22CW0ZHY3NJH8    76\n",
              "A1ODOGXEYECQQ8    76\n",
              "                  ..\n",
              "A1U0131NE06V15     5\n",
              "A2Z5JKDIEZF57Q     5\n",
              "A2IZW51037PEWJ     5\n",
              "AP1QSII669BCQ      5\n",
              "AFDT9VMWE601S      5\n",
              "Name: reviewerID, Length: 4905, dtype: int64"
            ]
          },
          "metadata": {
            "tags": []
          },
          "execution_count": 10
        }
      ]
    },
    {
      "cell_type": "markdown",
      "metadata": {
        "id": "Rc-bLRzn65Ny",
        "colab_type": "text"
      },
      "source": [
        "Dataset obsahuje používateľov, ktorí hodnotili 5 až 94 produktov."
      ]
    },
    {
      "cell_type": "code",
      "metadata": {
        "id": "XHZYSt3bB2mK",
        "colab_type": "code",
        "outputId": "276b9b97-830a-4cab-a1b3-edb90c439b92",
        "colab": {
          "base_uri": "https://localhost:8080/",
          "height": 297
        }
      },
      "source": [
        "sb.countplot(x='reviewerID', data=data)\n"
      ],
      "execution_count": 0,
      "outputs": [
        {
          "output_type": "execute_result",
          "data": {
            "text/plain": [
              "<matplotlib.axes._subplots.AxesSubplot at 0x7fb10ab39400>"
            ]
          },
          "metadata": {
            "tags": []
          },
          "execution_count": 11
        },
        {
          "output_type": "display_data",
          "data": {
            "image/png": "[encoded data removed]",
            "text/plain": [
              "<Figure size 432x288 with 1 Axes>"
            ]
          },
          "metadata": {
            "tags": []
          }
        }
      ]
    },
    {
      "cell_type": "code",
      "metadata": {
        "id": "Xst6OxupH8eE",
        "colab_type": "code",
        "outputId": "0f0a89af-1920-473e-dba9-5316ee7c5663",
        "colab": {
          "base_uri": "https://localhost:8080/",
          "height": 297
        }
      },
      "source": [
        "sb.countplot(x='reviewerID', data=data, order=data.reviewerID.value_counts().iloc[:20].index)\n",
        "# top 20 reviewerov podla poctu recenzii"
      ],
      "execution_count": 0,
      "outputs": [
        {
          "output_type": "execute_result",
          "data": {
            "text/plain": [
              "<matplotlib.axes._subplots.AxesSubplot at 0x7fb1095792b0>"
            ]
          },
          "metadata": {
            "tags": []
          },
          "execution_count": 12
        },
        {
          "output_type": "display_data",
          "data": {
            "image/png": "[encoded data removed]",
            "text/plain": [
              "<Figure size 432x288 with 1 Axes>"
            ]
          },
          "metadata": {
            "tags": []
          }
        }
      ]
    },
    {
      "cell_type": "markdown",
      "metadata": {
        "id": "q3bCFH1UTTfl",
        "colab_type": "text"
      },
      "source": [
        "### asin"
      ]
    },
    {
      "cell_type": "markdown",
      "metadata": {
        "id": "9i_mfOGJyp_c",
        "colab_type": "text"
      },
      "source": [
        "Unikátny identifikátor produktu, ktorý je v recenzii hodnotený."
      ]
    },
    {
      "cell_type": "code",
      "metadata": {
        "id": "2efeNhPkbYYb",
        "colab_type": "code",
        "outputId": "e2f6f418-5528-43b6-c853-e3c85dd19e47",
        "colab": {
          "base_uri": "https://localhost:8080/",
          "height": 35
        }
      },
      "source": [
        "len(data.asin.unique())"
      ],
      "execution_count": 0,
      "outputs": [
        {
          "output_type": "execute_result",
          "data": {
            "text/plain": [
              "2420"
            ]
          },
          "metadata": {
            "tags": []
          },
          "execution_count": 13
        }
      ]
    },
    {
      "cell_type": "code",
      "metadata": {
        "id": "j0HAmWyb7P-J",
        "colab_type": "code",
        "outputId": "0e4c61f5-7838-48d8-c695-e474d0a7a15a",
        "colab": {
          "base_uri": "https://localhost:8080/",
          "height": 230
        }
      },
      "source": [
        "data.asin.value_counts()"
      ],
      "execution_count": 0,
      "outputs": [
        {
          "output_type": "execute_result",
          "data": {
            "text/plain": [
              "B0010T3QT2    311\n",
              "B0039N7ELS    227\n",
              "B0027CTFBO    205\n",
              "B0039N3QFQ    186\n",
              "B002K9M6OW    185\n",
              "             ... \n",
              "B0006IEV60      5\n",
              "B00006JN7R      5\n",
              "B00347A8PS      5\n",
              "B000087L7C      5\n",
              "B006M1MFEA      5\n",
              "Name: asin, Length: 2420, dtype: int64"
            ]
          },
          "metadata": {
            "tags": []
          },
          "execution_count": 14
        }
      ]
    },
    {
      "cell_type": "markdown",
      "metadata": {
        "id": "I5IwjoTP7V8F",
        "colab_type": "text"
      },
      "source": [
        "Dataset obsahuje produkty, ktoré boli hodnotené od 5 do 311 používateľmi."
      ]
    },
    {
      "cell_type": "code",
      "metadata": {
        "id": "KTbbnSgW_7-7",
        "colab_type": "code",
        "outputId": "9f0a0601-7b2d-4361-a13f-bec3cca074cb",
        "colab": {
          "base_uri": "https://localhost:8080/",
          "height": 297
        }
      },
      "source": [
        "sb.countplot(x='asin', data=data)"
      ],
      "execution_count": 0,
      "outputs": [
        {
          "output_type": "execute_result",
          "data": {
            "text/plain": [
              "<matplotlib.axes._subplots.AxesSubplot at 0x7fb109496630>"
            ]
          },
          "metadata": {
            "tags": []
          },
          "execution_count": 15
        },
        {
          "output_type": "display_data",
          "data": {
            "image/png": "[encoded data removed]",
            "text/plain": [
              "<Figure size 432x288 with 1 Axes>"
            ]
          },
          "metadata": {
            "tags": []
          }
        }
      ]
    },
    {
      "cell_type": "code",
      "metadata": {
        "id": "_ajHqk-DJdFf",
        "colab_type": "code",
        "outputId": "74bbc146-e31f-48ef-bca7-a4273a0f357c",
        "colab": {
          "base_uri": "https://localhost:8080/",
          "height": 297
        }
      },
      "source": [
        "sb.countplot(x='asin', data=data, order=data.asin.value_counts().iloc[:20].index)\n",
        "# top 20 produktov podla poctu recenzii"
      ],
      "execution_count": 0,
      "outputs": [
        {
          "output_type": "execute_result",
          "data": {
            "text/plain": [
              "<matplotlib.axes._subplots.AxesSubplot at 0x7fb100391ac8>"
            ]
          },
          "metadata": {
            "tags": []
          },
          "execution_count": 16
        },
        {
          "output_type": "display_data",
          "data": {
            "image/png": "[encoded data removed]",
            "text/plain": [
              "<Figure size 432x288 with 1 Axes>"
            ]
          },
          "metadata": {
            "tags": []
          }
        }
      ]
    },
    {
      "cell_type": "markdown",
      "metadata": {
        "id": "b7XRWoquTTxA",
        "colab_type": "text"
      },
      "source": [
        "### reviewerName"
      ]
    },
    {
      "cell_type": "markdown",
      "metadata": {
        "id": "4g9meDM1ybb_",
        "colab_type": "text"
      },
      "source": [
        "Meno, pod ktorým sa používateľ, ktorý napísal recenziu prezentuje. Nemusí byť unikátne."
      ]
    },
    {
      "cell_type": "code",
      "metadata": {
        "id": "E1qGIkPybO41",
        "colab_type": "code",
        "outputId": "14cb22a7-ef53-4dcc-d213-c5bd3f832555",
        "colab": {
          "base_uri": "https://localhost:8080/",
          "height": 35
        }
      },
      "source": [
        "len(data.reviewerName.unique())"
      ],
      "execution_count": 0,
      "outputs": [
        {
          "output_type": "execute_result",
          "data": {
            "text/plain": [
              "4800"
            ]
          },
          "metadata": {
            "tags": []
          },
          "execution_count": 17
        }
      ]
    },
    {
      "cell_type": "code",
      "metadata": {
        "id": "dD0-5iW3Nxwq",
        "colab_type": "code",
        "outputId": "8cc9be16-bbaf-4b20-e219-abbc3a932045",
        "colab": {
          "base_uri": "https://localhost:8080/",
          "height": 230
        }
      },
      "source": [
        "data.reviewerName.value_counts()"
      ],
      "execution_count": 0,
      "outputs": [
        {
          "output_type": "execute_result",
          "data": {
            "text/plain": [
              "Amazon Customer                     411\n",
              "C. Hill \"CFH\"                        93\n",
              "Two kids mom \"scienceteachermom\"     81\n",
              "Ed                                   78\n",
              "Noname                               76\n",
              "                                   ... \n",
              "N Smiley                              1\n",
              "Vicky \"sports girl\"                   1\n",
              "Elizabeth Mack                        1\n",
              "Evil Von Der Scratchy                 1\n",
              "Kdrama Addict                         1\n",
              "Name: reviewerName, Length: 4799, dtype: int64"
            ]
          },
          "metadata": {
            "tags": []
          },
          "execution_count": 18
        }
      ]
    },
    {
      "cell_type": "markdown",
      "metadata": {
        "id": "wbhi44MFTUCg",
        "colab_type": "text"
      },
      "source": [
        "### helpful"
      ]
    },
    {
      "cell_type": "markdown",
      "metadata": {
        "id": "H8_Ck8jvPABG",
        "colab_type": "text"
      },
      "source": [
        "Atribút, ktorý poskytuje agregované informácie o o subjektívnom vnímaní užitočnosti recenzie pre ďalších používateľov. \n",
        "Formát - [P,N] kde:\n",
        "\n",
        "*   P = počet pozitívnych hodnotení (používatelia považovali recenziu za užitočnú)\n",
        "\n",
        "*   N = počet negatívnych hodnotení (používatelia považovali recenziu za neužitočnú)\n",
        "\n",
        "\n"
      ]
    },
    {
      "cell_type": "markdown",
      "metadata": {
        "id": "mlxzShNDSEKA",
        "colab_type": "text"
      },
      "source": [
        "Keďže chceme hodnoty z tohto atribútu použiť na trénovanie nášho modelu, potrebujeme ich extrahovať do dvoch oddelených atribútov obsahujúcich len dané hodnoty.\n",
        "\n",
        "\n"
      ]
    },
    {
      "cell_type": "code",
      "metadata": {
        "id": "w8fhXWb5VhNJ",
        "colab_type": "code",
        "outputId": "f0a1de57-21d3-4a4a-9e79-53d91aa1ae8c",
        "colab": {
          "base_uri": "https://localhost:8080/",
          "height": 124
        }
      },
      "source": [
        "data.helpful.head(5)"
      ],
      "execution_count": 0,
      "outputs": [
        {
          "output_type": "execute_result",
          "data": {
            "text/plain": [
              "0    [3, 4]\n",
              "1    [7, 9]\n",
              "2    [3, 3]\n",
              "3    [7, 8]\n",
              "4    [0, 0]\n",
              "Name: helpful, dtype: object"
            ]
          },
          "metadata": {
            "tags": []
          },
          "execution_count": 5
        }
      ]
    },
    {
      "cell_type": "code",
      "metadata": {
        "id": "mdFPlPyDazEB",
        "colab_type": "code",
        "colab": {}
      },
      "source": [
        "data['helpful'] = data['helpful'].astype(str) \n",
        "# chceme vykonavat str.replace a str.split metody"
      ],
      "execution_count": 0,
      "outputs": []
    },
    {
      "cell_type": "code",
      "metadata": {
        "id": "zqFERYPRTm0N",
        "colab_type": "code",
        "outputId": "04d2f506-af02-4964-c1b4-fa812d03331a",
        "colab": {
          "base_uri": "https://localhost:8080/",
          "height": 124
        }
      },
      "source": [
        "#odstranime nezelane znaky\n",
        "data['helpful'] = pd.DataFrame(data['helpful'].str.replace('[', ''))\n",
        "data['helpful'] = pd.DataFrame(data['helpful'].str.replace(']', ''))\n",
        "data['helpful'] = pd.DataFrame(data['helpful'].str.replace(' ', ''))\n",
        "\n",
        "\n",
        "\n",
        "data.helpful.head(5)"
      ],
      "execution_count": 0,
      "outputs": [
        {
          "output_type": "execute_result",
          "data": {
            "text/plain": [
              "0    3,4\n",
              "1    7,9\n",
              "2    3,3\n",
              "3    7,8\n",
              "4    0,0\n",
              "Name: helpful, dtype: object"
            ]
          },
          "metadata": {
            "tags": []
          },
          "execution_count": 7
        }
      ]
    },
    {
      "cell_type": "code",
      "metadata": {
        "id": "3T_BYZrCj37H",
        "colab_type": "code",
        "colab": {}
      },
      "source": [
        "# rozdelime si hodnotenia do dvoch atributov (pozitivne a negativne)\n",
        "data['helpful_positive'], data['helpful_negative'] = data['helpful'].str.split(\",\").str\n"
      ],
      "execution_count": 0,
      "outputs": []
    },
    {
      "cell_type": "code",
      "metadata": {
        "id": "lLK40th1mCIH",
        "colab_type": "code",
        "outputId": "717d7a10-1d6b-40e6-cc9a-87f2551467c3",
        "colab": {
          "base_uri": "https://localhost:8080/",
          "height": 124
        }
      },
      "source": [
        "data['helpful_positive'].head(5)\n"
      ],
      "execution_count": 0,
      "outputs": [
        {
          "output_type": "execute_result",
          "data": {
            "text/plain": [
              "0    3\n",
              "1    7\n",
              "2    3\n",
              "3    7\n",
              "4    0\n",
              "Name: helpful_positive, dtype: object"
            ]
          },
          "metadata": {
            "tags": []
          },
          "execution_count": 9
        }
      ]
    },
    {
      "cell_type": "code",
      "metadata": {
        "id": "ByKCu5zTmFal",
        "colab_type": "code",
        "outputId": "babeca47-2a80-4dfb-8288-b719ba26a45a",
        "colab": {
          "base_uri": "https://localhost:8080/",
          "height": 124
        }
      },
      "source": [
        "data['helpful_negative'].head(5)"
      ],
      "execution_count": 0,
      "outputs": [
        {
          "output_type": "execute_result",
          "data": {
            "text/plain": [
              "0    4\n",
              "1    9\n",
              "2    3\n",
              "3    8\n",
              "4    0\n",
              "Name: helpful_negative, dtype: object"
            ]
          },
          "metadata": {
            "tags": []
          },
          "execution_count": 10
        }
      ]
    },
    {
      "cell_type": "code",
      "metadata": {
        "id": "FiTrFVogYxdG",
        "colab_type": "code",
        "colab": {}
      },
      "source": [
        "# rozdelenie prebehlo uspesne, mozeme odstranit povodny atribut\n",
        "del data['helpful']"
      ],
      "execution_count": 0,
      "outputs": []
    },
    {
      "cell_type": "markdown",
      "metadata": {
        "id": "G1LoX1MrTkCG",
        "colab_type": "text"
      },
      "source": [
        "### summary"
      ]
    },
    {
      "cell_type": "markdown",
      "metadata": {
        "id": "yvpBt4CVYIxr",
        "colab_type": "text"
      },
      "source": [
        "Tento atribút obsahuje stručnú verziu (zhrnutie) vyjadrenia klienta o danom produkte."
      ]
    },
    {
      "cell_type": "code",
      "metadata": {
        "id": "2ZAlWnJHX1HA",
        "colab_type": "code",
        "colab": {}
      },
      "source": [
        "# Tokenizacia - zaujima nas pocet slov v recenziach\n",
        "summaryTokens = [keras.preprocessing.text.text_to_word_sequence(text, filters='!\"#$%&()*+,-./:;<=>?@[\\\\]^_`{|}~\\t\\n', lower=True, split=' ') for text in data.summary]\n"
      ],
      "execution_count": 0,
      "outputs": []
    },
    {
      "cell_type": "code",
      "metadata": {
        "id": "fx0cwtjyYrkT",
        "colab_type": "code",
        "outputId": "a5f152d9-4bdb-4fdc-a738-008219457132",
        "colab": {
          "base_uri": "https://localhost:8080/",
          "height": 301
        }
      },
      "source": [
        "summaryTokens[:5]"
      ],
      "execution_count": 0,
      "outputs": [
        {
          "output_type": "execute_result",
          "data": {
            "text/plain": [
              "[['a', 'solid', 'performer', 'and', 'long', 'time', 'friend'],\n",
              " ['price',\n",
              "  'of',\n",
              "  'gold',\n",
              "  'is',\n",
              "  'up',\n",
              "  'so',\n",
              "  \"don't\",\n",
              "  'bury',\n",
              "  'the',\n",
              "  'golden',\n",
              "  'flagship',\n",
              "  'hp12c'],\n",
              " ['good', 'functionality', 'but', 'not', 'durable', 'like', 'old', 'hps'],\n",
              " ['one', 'of', 'the', 'last', 'of', 'an', 'almost', 'extinct', 'species'],\n",
              " ['still', 'the', 'best']]"
            ]
          },
          "metadata": {
            "tags": []
          },
          "execution_count": 37
        }
      ]
    },
    {
      "cell_type": "code",
      "metadata": {
        "id": "n_68z02TasEg",
        "colab_type": "code",
        "colab": {}
      },
      "source": [
        "# ulozenie poctov slov recenzii kvoli analyze a vizualizacii\n",
        "for i,review in enumerate(summaryTokens):\n",
        "  summaryTokens[i] = len(review)\n"
      ],
      "execution_count": 0,
      "outputs": []
    },
    {
      "cell_type": "code",
      "metadata": {
        "id": "PKGYItPrgLT-",
        "colab_type": "code",
        "outputId": "00382aad-e635-428e-df1f-0e7de62c162b",
        "colab": {
          "base_uri": "https://localhost:8080/",
          "height": 35
        }
      },
      "source": [
        "# kontrola\n",
        "summaryTokens[:5]"
      ],
      "execution_count": 0,
      "outputs": [
        {
          "output_type": "execute_result",
          "data": {
            "text/plain": [
              "[7, 12, 8, 9, 3]"
            ]
          },
          "metadata": {
            "tags": []
          },
          "execution_count": 40
        }
      ]
    },
    {
      "cell_type": "code",
      "metadata": {
        "id": "e62Zzy3GxOxL",
        "colab_type": "code",
        "outputId": "e5d1414f-9d50-4040-ad2b-b5f91dbe1b8c",
        "colab": {
          "base_uri": "https://localhost:8080/",
          "height": 35
        }
      },
      "source": [
        "min(summaryTokens)"
      ],
      "execution_count": 0,
      "outputs": [
        {
          "output_type": "execute_result",
          "data": {
            "text/plain": [
              "0"
            ]
          },
          "metadata": {
            "tags": []
          },
          "execution_count": 54
        }
      ]
    },
    {
      "cell_type": "code",
      "metadata": {
        "id": "_rtVM8e5xSmM",
        "colab_type": "code",
        "outputId": "7c42be49-4f7b-4e0f-ab1f-08efdec137e8",
        "colab": {
          "base_uri": "https://localhost:8080/",
          "height": 35
        }
      },
      "source": [
        "max(summaryTokens)"
      ],
      "execution_count": 0,
      "outputs": [
        {
          "output_type": "execute_result",
          "data": {
            "text/plain": [
              "32"
            ]
          },
          "metadata": {
            "tags": []
          },
          "execution_count": 55
        }
      ]
    },
    {
      "cell_type": "markdown",
      "metadata": {
        "id": "HJuFXUpAxcUc",
        "colab_type": "text"
      },
      "source": [
        "Zhrnutia recenzií dosahujú dĺžku 0 až 32 slov."
      ]
    },
    {
      "cell_type": "code",
      "metadata": {
        "id": "rpIeX09uZCH4",
        "colab_type": "code",
        "outputId": "e7bf104c-da40-4da7-eb1e-c3f0fdd0c1e0",
        "colab": {
          "base_uri": "https://localhost:8080/",
          "height": 270
        }
      },
      "source": [
        "sb.boxplot(y=summaryTokens)"
      ],
      "execution_count": 0,
      "outputs": [
        {
          "output_type": "execute_result",
          "data": {
            "text/plain": [
              "<matplotlib.axes._subplots.AxesSubplot at 0x7fc31ffa1ef0>"
            ]
          },
          "metadata": {
            "tags": []
          },
          "execution_count": 63
        },
        {
          "output_type": "display_data",
          "data": {
            "image/png": "[encoded data removed]",
            "text/plain": [
              "<Figure size 432x288 with 1 Axes>"
            ]
          },
          "metadata": {
            "tags": []
          }
        }
      ]
    },
    {
      "cell_type": "code",
      "metadata": {
        "id": "snff-HpG0q8P",
        "colab_type": "code",
        "outputId": "62dd45f4-24d6-4a91-94a2-81c44b654e2c",
        "colab": {
          "base_uri": "https://localhost:8080/",
          "height": 283
        }
      },
      "source": [
        "sb.distplot( summaryTokens, bins=20, kde=False )\n",
        "# os Y - pocet recenzií\n",
        "# os X - pocet slov v recenzii"
      ],
      "execution_count": 0,
      "outputs": [
        {
          "output_type": "execute_result",
          "data": {
            "text/plain": [
              "<matplotlib.axes._subplots.AxesSubplot at 0x7fc3216b2a20>"
            ]
          },
          "metadata": {
            "tags": []
          },
          "execution_count": 76
        },
        {
          "output_type": "display_data",
          "data": {
            "image/png": "[encoded data removed]",
            "text/plain": [
              "<Figure size 432x288 with 1 Axes>"
            ]
          },
          "metadata": {
            "tags": []
          }
        }
      ]
    },
    {
      "cell_type": "markdown",
      "metadata": {
        "id": "JL6FOXecTUQx",
        "colab_type": "text"
      },
      "source": [
        "### reviewText"
      ]
    },
    {
      "cell_type": "markdown",
      "metadata": {
        "id": "j_gC56XlXPaF",
        "colab_type": "text"
      },
      "source": [
        "Tento atribút obsahuje celé vyjadrenie klienta o produkte."
      ]
    },
    {
      "cell_type": "code",
      "metadata": {
        "id": "iuIGbsoivRCu",
        "colab_type": "code",
        "colab": {}
      },
      "source": [
        "reviewTextTokens = [keras.preprocessing.text.text_to_word_sequence(text, filters='!\"#$%&()*+,-./:;<=>?@[\\\\]^_`{|}~\\t\\n', lower=True, split=' ') for text in data.reviewText]"
      ],
      "execution_count": 0,
      "outputs": []
    },
    {
      "cell_type": "code",
      "metadata": {
        "id": "dwnd4YiFvdEn",
        "colab_type": "code",
        "colab": {}
      },
      "source": [
        "for i,review in enumerate(reviewTextTokens):\n",
        "  reviewTextTokens[i] = len(review)"
      ],
      "execution_count": 0,
      "outputs": []
    },
    {
      "cell_type": "code",
      "metadata": {
        "id": "w_rN6ya-vdmR",
        "colab_type": "code",
        "outputId": "e0abe8ad-b6a7-4aa1-a8cb-e886ddf2edd4",
        "colab": {
          "base_uri": "https://localhost:8080/",
          "height": 35
        }
      },
      "source": [
        "reviewTextTokens[:5]"
      ],
      "execution_count": 0,
      "outputs": [
        {
          "output_type": "execute_result",
          "data": {
            "text/plain": [
              "[191, 928, 96, 624, 124]"
            ]
          },
          "metadata": {
            "tags": []
          },
          "execution_count": 47
        }
      ]
    },
    {
      "cell_type": "code",
      "metadata": {
        "id": "vD2Rpnf7wZKT",
        "colab_type": "code",
        "outputId": "a81a6992-f69e-425f-bc43-c9fdf9911045",
        "colab": {
          "base_uri": "https://localhost:8080/",
          "height": 35
        }
      },
      "source": [
        "max(reviewTextTokens)"
      ],
      "execution_count": 0,
      "outputs": [
        {
          "output_type": "execute_result",
          "data": {
            "text/plain": [
              "5627"
            ]
          },
          "metadata": {
            "tags": []
          },
          "execution_count": 52
        }
      ]
    },
    {
      "cell_type": "code",
      "metadata": {
        "id": "P5kNVjjrw1h_",
        "colab_type": "code",
        "outputId": "187bb28e-e3f2-403d-d942-f4d29dec58b9",
        "colab": {
          "base_uri": "https://localhost:8080/",
          "height": 35
        }
      },
      "source": [
        "min(reviewTextTokens)"
      ],
      "execution_count": 0,
      "outputs": [
        {
          "output_type": "execute_result",
          "data": {
            "text/plain": [
              "0"
            ]
          },
          "metadata": {
            "tags": []
          },
          "execution_count": 53
        }
      ]
    },
    {
      "cell_type": "markdown",
      "metadata": {
        "id": "BnNBhk92w-oq",
        "colab_type": "text"
      },
      "source": [
        "Recenzie dosahujú dĺžku 0 až 5627 slov."
      ]
    },
    {
      "cell_type": "code",
      "metadata": {
        "id": "yKR6AZtE16D2",
        "colab_type": "code",
        "outputId": "8fb5a0f6-6dfd-4407-ccf5-b8011dde52fe",
        "colab": {
          "base_uri": "https://localhost:8080/",
          "height": 284
        }
      },
      "source": [
        "sb.distplot( reviewTextTokens, bins=100, kde=False )\n",
        "# os Y - pocet recenzií\n",
        "# os X - pocet slov v recenzii"
      ],
      "execution_count": 0,
      "outputs": [
        {
          "output_type": "execute_result",
          "data": {
            "text/plain": [
              "<matplotlib.axes._subplots.AxesSubplot at 0x7fc32296be10>"
            ]
          },
          "metadata": {
            "tags": []
          },
          "execution_count": 77
        },
        {
          "output_type": "display_data",
          "data": {
            "image/png": "[encoded data removed]",
            "text/plain": [
              "<Figure size 432x288 with 1 Axes>"
            ]
          },
          "metadata": {
            "tags": []
          }
        }
      ]
    },
    {
      "cell_type": "markdown",
      "metadata": {
        "id": "rAhJvsZqTjyj",
        "colab_type": "text"
      },
      "source": [
        "## overall"
      ]
    },
    {
      "cell_type": "markdown",
      "metadata": {
        "id": "7M_VhZP2Y1_-",
        "colab_type": "text"
      },
      "source": [
        "Tento atribút reprezentuje agregované hodnotenie daného produktu - hodnotenia všetkých aspektov daného produktu, ktoré používateľ ohodnotil, boli sčítané a následne vydelené počtom hodnotených aspektov."
      ]
    },
    {
      "cell_type": "code",
      "metadata": {
        "id": "OJGXlQR44LdM",
        "colab_type": "code",
        "outputId": "d97e3f6e-7e2f-49a1-cda8-c83fc86acf5b",
        "colab": {
          "base_uri": "https://localhost:8080/",
          "height": 270
        }
      },
      "source": [
        "sb.boxplot(y=\"overall\", data=data)"
      ],
      "execution_count": 0,
      "outputs": [
        {
          "output_type": "execute_result",
          "data": {
            "text/plain": [
              "<matplotlib.axes._subplots.AxesSubplot at 0x7fb0fe411c18>"
            ]
          },
          "metadata": {
            "tags": []
          },
          "execution_count": 26
        },
        {
          "output_type": "display_data",
          "data": {
            "image/png": "[encoded data removed]",
            "text/plain": [
              "<Figure size 432x288 with 1 Axes>"
            ]
          },
          "metadata": {
            "tags": []
          }
        }
      ]
    },
    {
      "cell_type": "code",
      "metadata": {
        "id": "7vCfQDAWRO7y",
        "colab_type": "code",
        "colab": {}
      },
      "source": [
        ""
      ],
      "execution_count": 0,
      "outputs": []
    },
    {
      "cell_type": "code",
      "metadata": {
        "id": "1Ekf_Rqom3Wh",
        "colab_type": "code",
        "colab": {}
      },
      "source": [
        "data.to_json('/content/drive/My Drive/app/dataset/Office_Products_updated.json')"
      ],
      "execution_count": 0,
      "outputs": []
    },
    {
      "cell_type": "markdown",
      "metadata": {
        "id": "4AvMiowl4qBb",
        "colab_type": "text"
      },
      "source": [
        "## Korelácie"
      ]
    },
    {
      "cell_type": "markdown",
      "metadata": {
        "id": "Z2ojLbm65U2q",
        "colab_type": "text"
      },
      "source": [
        "Vytvoríme si subset obsahujúci všetky atribúty, ktoré považujeme za potenciálne relevantné v rámci analýzy korelácií."
      ]
    },
    {
      "cell_type": "code",
      "metadata": {
        "id": "HZtM9dGk3XIT",
        "colab_type": "code",
        "outputId": "3dc85a73-2aab-4fc5-e3ff-bb7da31265de",
        "colab": {
          "base_uri": "https://localhost:8080/",
          "height": 200
        }
      },
      "source": [
        "dataCorSubset = pd.DataFrame(list(zip(reviewTextTokens, summaryTokens)), columns =['reviewTextSize', 'summarySize'])\n",
        "dataCorSubset.head(5)"
      ],
      "execution_count": 0,
      "outputs": [
        {
          "output_type": "execute_result",
          "data": {
            "text/html": [
              "<div>\n",
              "<style scoped>\n",
              "    .dataframe tbody tr th:only-of-type {\n",
              "        vertical-align: middle;\n",
              "    }\n",
              "\n",
              "    .dataframe tbody tr th {\n",
              "        vertical-align: top;\n",
              "    }\n",
              "\n",
              "    .dataframe thead th {\n",
              "        text-align: right;\n",
              "    }\n",
              "</style>\n",
              "<table border=\"1\" class=\"dataframe\">\n",
              "  <thead>\n",
              "    <tr style=\"text-align: right;\">\n",
              "      <th></th>\n",
              "      <th>reviewTextSize</th>\n",
              "      <th>summarySize</th>\n",
              "    </tr>\n",
              "  </thead>\n",
              "  <tbody>\n",
              "    <tr>\n",
              "      <th>0</th>\n",
              "      <td>191</td>\n",
              "      <td>7</td>\n",
              "    </tr>\n",
              "    <tr>\n",
              "      <th>1</th>\n",
              "      <td>928</td>\n",
              "      <td>12</td>\n",
              "    </tr>\n",
              "    <tr>\n",
              "      <th>2</th>\n",
              "      <td>96</td>\n",
              "      <td>8</td>\n",
              "    </tr>\n",
              "    <tr>\n",
              "      <th>3</th>\n",
              "      <td>624</td>\n",
              "      <td>9</td>\n",
              "    </tr>\n",
              "    <tr>\n",
              "      <th>4</th>\n",
              "      <td>124</td>\n",
              "      <td>3</td>\n",
              "    </tr>\n",
              "  </tbody>\n",
              "</table>\n",
              "</div>"
            ],
            "text/plain": [
              "   reviewTextSize  summarySize\n",
              "0             191            7\n",
              "1             928           12\n",
              "2              96            8\n",
              "3             624            9\n",
              "4             124            3"
            ]
          },
          "metadata": {
            "tags": []
          },
          "execution_count": 81
        }
      ]
    },
    {
      "cell_type": "code",
      "metadata": {
        "id": "6BGBLoCj5m6l",
        "colab_type": "code",
        "outputId": "578528a6-a67b-4761-bf56-ec64217540e4",
        "colab": {
          "base_uri": "https://localhost:8080/",
          "height": 200
        }
      },
      "source": [
        "dataCorSubset['helpful_positive'], dataCorSubset['helpful_negative'] = data['helpful_positive'], data['helpful_negative'] \n",
        "dataCorSubset.head(5)"
      ],
      "execution_count": 0,
      "outputs": [
        {
          "output_type": "execute_result",
          "data": {
            "text/html": [
              "<div>\n",
              "<style scoped>\n",
              "    .dataframe tbody tr th:only-of-type {\n",
              "        vertical-align: middle;\n",
              "    }\n",
              "\n",
              "    .dataframe tbody tr th {\n",
              "        vertical-align: top;\n",
              "    }\n",
              "\n",
              "    .dataframe thead th {\n",
              "        text-align: right;\n",
              "    }\n",
              "</style>\n",
              "<table border=\"1\" class=\"dataframe\">\n",
              "  <thead>\n",
              "    <tr style=\"text-align: right;\">\n",
              "      <th></th>\n",
              "      <th>reviewTextSize</th>\n",
              "      <th>summarySize</th>\n",
              "      <th>helpful_positive</th>\n",
              "      <th>helpful_negative</th>\n",
              "    </tr>\n",
              "  </thead>\n",
              "  <tbody>\n",
              "    <tr>\n",
              "      <th>0</th>\n",
              "      <td>191</td>\n",
              "      <td>7</td>\n",
              "      <td>3</td>\n",
              "      <td>4</td>\n",
              "    </tr>\n",
              "    <tr>\n",
              "      <th>1</th>\n",
              "      <td>928</td>\n",
              "      <td>12</td>\n",
              "      <td>7</td>\n",
              "      <td>9</td>\n",
              "    </tr>\n",
              "    <tr>\n",
              "      <th>2</th>\n",
              "      <td>96</td>\n",
              "      <td>8</td>\n",
              "      <td>3</td>\n",
              "      <td>3</td>\n",
              "    </tr>\n",
              "    <tr>\n",
              "      <th>3</th>\n",
              "      <td>624</td>\n",
              "      <td>9</td>\n",
              "      <td>7</td>\n",
              "      <td>8</td>\n",
              "    </tr>\n",
              "    <tr>\n",
              "      <th>4</th>\n",
              "      <td>124</td>\n",
              "      <td>3</td>\n",
              "      <td>0</td>\n",
              "      <td>0</td>\n",
              "    </tr>\n",
              "  </tbody>\n",
              "</table>\n",
              "</div>"
            ],
            "text/plain": [
              "   reviewTextSize  summarySize helpful_positive helpful_negative\n",
              "0             191            7                3                4\n",
              "1             928           12                7                9\n",
              "2              96            8                3                3\n",
              "3             624            9                7                8\n",
              "4             124            3                0                0"
            ]
          },
          "metadata": {
            "tags": []
          },
          "execution_count": 82
        }
      ]
    },
    {
      "cell_type": "code",
      "metadata": {
        "id": "6V-7jDql7WRt",
        "colab_type": "code",
        "colab": {}
      },
      "source": [
        "dataCorSubset.helpful_positive = dataCorSubset.helpful_positive.astype(int)\n",
        "dataCorSubset.helpful_negative = dataCorSubset.helpful_negative.astype(int)"
      ],
      "execution_count": 0,
      "outputs": []
    },
    {
      "cell_type": "code",
      "metadata": {
        "id": "z64Lmuao6_Ap",
        "colab_type": "code",
        "outputId": "61484fc1-160e-43e4-fe15-a8a7d89e8397",
        "colab": {
          "base_uri": "https://localhost:8080/",
          "height": 177
        }
      },
      "source": [
        "dataCorSubset.info()"
      ],
      "execution_count": 0,
      "outputs": [
        {
          "output_type": "stream",
          "text": [
            "<class 'pandas.core.frame.DataFrame'>\n",
            "RangeIndex: 53258 entries, 0 to 53257\n",
            "Data columns (total 4 columns):\n",
            "reviewTextSize      53258 non-null int64\n",
            "summarySize         53258 non-null int64\n",
            "helpful_positive    53258 non-null int64\n",
            "helpful_negative    53258 non-null int64\n",
            "dtypes: int64(4)\n",
            "memory usage: 1.6 MB\n"
          ],
          "name": "stdout"
        }
      ]
    },
    {
      "cell_type": "code",
      "metadata": {
        "id": "UtEoBWwozU4O",
        "colab_type": "code",
        "outputId": "5083be25-8b62-468b-c0ae-102c6adc81f6",
        "colab": {
          "base_uri": "https://localhost:8080/",
          "height": 118
        }
      },
      "source": [
        "# vypis matice korelacii\n",
        "cor = dataCorSubset.corr()\n",
        "cor.style.background_gradient(cmap='coolwarm')"
      ],
      "execution_count": 0,
      "outputs": [
        {
          "output_type": "execute_result",
          "data": {
            "text/html": [
              "<style  type=\"text/css\" >\n",
              "    #T_93c92ba8_0ef2_11ea_8218_0242ac1c0002row0_col0 {\n",
              "            background-color:  #b40426;\n",
              "            color:  #f1f1f1;\n",
              "        }    #T_93c92ba8_0ef2_11ea_8218_0242ac1c0002row0_col1 {\n",
              "            background-color:  #8caffe;\n",
              "            color:  #000000;\n",
              "        }    #T_93c92ba8_0ef2_11ea_8218_0242ac1c0002row0_col2 {\n",
              "            background-color:  #8badfd;\n",
              "            color:  #000000;\n",
              "        }    #T_93c92ba8_0ef2_11ea_8218_0242ac1c0002row0_col3 {\n",
              "            background-color:  #8caffe;\n",
              "            color:  #000000;\n",
              "        }    #T_93c92ba8_0ef2_11ea_8218_0242ac1c0002row1_col0 {\n",
              "            background-color:  #3c4ec2;\n",
              "            color:  #f1f1f1;\n",
              "        }    #T_93c92ba8_0ef2_11ea_8218_0242ac1c0002row1_col1 {\n",
              "            background-color:  #b40426;\n",
              "            color:  #f1f1f1;\n",
              "        }    #T_93c92ba8_0ef2_11ea_8218_0242ac1c0002row1_col2 {\n",
              "            background-color:  #3b4cc0;\n",
              "            color:  #f1f1f1;\n",
              "        }    #T_93c92ba8_0ef2_11ea_8218_0242ac1c0002row1_col3 {\n",
              "            background-color:  #3b4cc0;\n",
              "            color:  #f1f1f1;\n",
              "        }    #T_93c92ba8_0ef2_11ea_8218_0242ac1c0002row2_col0 {\n",
              "            background-color:  #3b4cc0;\n",
              "            color:  #f1f1f1;\n",
              "        }    #T_93c92ba8_0ef2_11ea_8218_0242ac1c0002row2_col1 {\n",
              "            background-color:  #3b4cc0;\n",
              "            color:  #f1f1f1;\n",
              "        }    #T_93c92ba8_0ef2_11ea_8218_0242ac1c0002row2_col2 {\n",
              "            background-color:  #b40426;\n",
              "            color:  #f1f1f1;\n",
              "        }    #T_93c92ba8_0ef2_11ea_8218_0242ac1c0002row2_col3 {\n",
              "            background-color:  #b40426;\n",
              "            color:  #f1f1f1;\n",
              "        }    #T_93c92ba8_0ef2_11ea_8218_0242ac1c0002row3_col0 {\n",
              "            background-color:  #3c4ec2;\n",
              "            color:  #f1f1f1;\n",
              "        }    #T_93c92ba8_0ef2_11ea_8218_0242ac1c0002row3_col1 {\n",
              "            background-color:  #3b4cc0;\n",
              "            color:  #f1f1f1;\n",
              "        }    #T_93c92ba8_0ef2_11ea_8218_0242ac1c0002row3_col2 {\n",
              "            background-color:  #b40426;\n",
              "            color:  #f1f1f1;\n",
              "        }    #T_93c92ba8_0ef2_11ea_8218_0242ac1c0002row3_col3 {\n",
              "            background-color:  #b40426;\n",
              "            color:  #f1f1f1;\n",
              "        }</style><table id=\"T_93c92ba8_0ef2_11ea_8218_0242ac1c0002\" ><thead>    <tr>        <th class=\"blank level0\" ></th>        <th class=\"col_heading level0 col0\" >reviewTextSize</th>        <th class=\"col_heading level0 col1\" >summarySize</th>        <th class=\"col_heading level0 col2\" >helpful_positive</th>        <th class=\"col_heading level0 col3\" >helpful_negative</th>    </tr></thead><tbody>\n",
              "                <tr>\n",
              "                        <th id=\"T_93c92ba8_0ef2_11ea_8218_0242ac1c0002level0_row0\" class=\"row_heading level0 row0\" >reviewTextSize</th>\n",
              "                        <td id=\"T_93c92ba8_0ef2_11ea_8218_0242ac1c0002row0_col0\" class=\"data row0 col0\" >1</td>\n",
              "                        <td id=\"T_93c92ba8_0ef2_11ea_8218_0242ac1c0002row0_col1\" class=\"data row0 col1\" >0.284475</td>\n",
              "                        <td id=\"T_93c92ba8_0ef2_11ea_8218_0242ac1c0002row0_col2\" class=\"data row0 col2\" >0.279407</td>\n",
              "                        <td id=\"T_93c92ba8_0ef2_11ea_8218_0242ac1c0002row0_col3\" class=\"data row0 col3\" >0.283687</td>\n",
              "            </tr>\n",
              "            <tr>\n",
              "                        <th id=\"T_93c92ba8_0ef2_11ea_8218_0242ac1c0002level0_row1\" class=\"row_heading level0 row1\" >summarySize</th>\n",
              "                        <td id=\"T_93c92ba8_0ef2_11ea_8218_0242ac1c0002row1_col0\" class=\"data row1 col0\" >0.284475</td>\n",
              "                        <td id=\"T_93c92ba8_0ef2_11ea_8218_0242ac1c0002row1_col1\" class=\"data row1 col1\" >1</td>\n",
              "                        <td id=\"T_93c92ba8_0ef2_11ea_8218_0242ac1c0002row1_col2\" class=\"data row1 col2\" >0.04797</td>\n",
              "                        <td id=\"T_93c92ba8_0ef2_11ea_8218_0242ac1c0002row1_col3\" class=\"data row1 col3\" >0.049459</td>\n",
              "            </tr>\n",
              "            <tr>\n",
              "                        <th id=\"T_93c92ba8_0ef2_11ea_8218_0242ac1c0002level0_row2\" class=\"row_heading level0 row2\" >helpful_positive</th>\n",
              "                        <td id=\"T_93c92ba8_0ef2_11ea_8218_0242ac1c0002row2_col0\" class=\"data row2 col0\" >0.279407</td>\n",
              "                        <td id=\"T_93c92ba8_0ef2_11ea_8218_0242ac1c0002row2_col1\" class=\"data row2 col1\" >0.04797</td>\n",
              "                        <td id=\"T_93c92ba8_0ef2_11ea_8218_0242ac1c0002row2_col2\" class=\"data row2 col2\" >1</td>\n",
              "                        <td id=\"T_93c92ba8_0ef2_11ea_8218_0242ac1c0002row2_col3\" class=\"data row2 col3\" >0.998512</td>\n",
              "            </tr>\n",
              "            <tr>\n",
              "                        <th id=\"T_93c92ba8_0ef2_11ea_8218_0242ac1c0002level0_row3\" class=\"row_heading level0 row3\" >helpful_negative</th>\n",
              "                        <td id=\"T_93c92ba8_0ef2_11ea_8218_0242ac1c0002row3_col0\" class=\"data row3 col0\" >0.283687</td>\n",
              "                        <td id=\"T_93c92ba8_0ef2_11ea_8218_0242ac1c0002row3_col1\" class=\"data row3 col1\" >0.049459</td>\n",
              "                        <td id=\"T_93c92ba8_0ef2_11ea_8218_0242ac1c0002row3_col2\" class=\"data row3 col2\" >0.998512</td>\n",
              "                        <td id=\"T_93c92ba8_0ef2_11ea_8218_0242ac1c0002row3_col3\" class=\"data row3 col3\" >1</td>\n",
              "            </tr>\n",
              "    </tbody></table>"
            ],
            "text/plain": [
              "<pandas.io.formats.style.Styler at 0x7fc31ee9ed68>"
            ]
          },
          "metadata": {
            "tags": []
          },
          "execution_count": 91
        }
      ]
    },
    {
      "cell_type": "markdown",
      "metadata": {
        "id": "GRexav549MxO",
        "colab_type": "text"
      },
      "source": [
        "Ako môžeme pozorovať z matice korelácií, okrem očividnej korelácie medzi počtom pozitívnych a negatívnych hodnotení recenzie stojí za zmienku jedine fakt, že celý text recenzie má výrazne vyššiu koreláciu s počtom pozitívnych a negatívnych hodnotení recenzie než jej skrátená verzia."
      ]
    },
    {
      "cell_type": "code",
      "metadata": {
        "id": "YhCBdKOY8MLs",
        "colab_type": "code",
        "outputId": "c3d566fc-f1a9-41a4-9e46-471689d91f61",
        "colab": {
          "base_uri": "https://localhost:8080/",
          "height": 297
        }
      },
      "source": [
        "sb.regplot(x=dataCorSubset.reviewTextSize, y=dataCorSubset.helpful_positive, line_kws={\"color\":\"r\",\"alpha\":0.8,\"lw\":4})\n",
        "print(\"Pearson correlation: %.3f\" % dataCorSubset.reviewTextSize.corr(dataCorSubset.helpful_positive))"
      ],
      "execution_count": 0,
      "outputs": [
        {
          "output_type": "stream",
          "text": [
            "Pearson correlation: 0.279\n"
          ],
          "name": "stdout"
        },
        {
          "output_type": "display_data",
          "data": {
            "image/png": "[encoded data removed]",
            "text/plain": [
              "<Figure size 432x288 with 1 Axes>"
            ]
          },
          "metadata": {
            "tags": []
          }
        }
      ]
    },
    {
      "cell_type": "code",
      "metadata": {
        "id": "cBxcQHZ28yvT",
        "colab_type": "code",
        "outputId": "5327f507-ad8a-47f6-c599-c5b091cfcaa7",
        "colab": {
          "base_uri": "https://localhost:8080/",
          "height": 297
        }
      },
      "source": [
        "sb.regplot(x=dataCorSubset.summarySize, y=dataCorSubset.helpful_positive, line_kws={\"color\":\"r\",\"alpha\":0.8,\"lw\":4})\n",
        "print(\"Pearson correlation: %.3f\" % dataCorSubset.summarySize.corr(dataCorSubset.helpful_positive))"
      ],
      "execution_count": 0,
      "outputs": [
        {
          "output_type": "stream",
          "text": [
            "Pearson correlation: 0.048\n"
          ],
          "name": "stdout"
        },
        {
          "output_type": "display_data",
          "data": {
            "image/png": "[encoded data removed]",
            "text/plain": [
              "<Figure size 432x288 with 1 Axes>"
            ]
          },
          "metadata": {
            "tags": []
          }
        }
      ]
    },
    {
      "cell_type": "markdown",
      "metadata": {
        "id": "7kKmKkbLMOMA",
        "colab_type": "text"
      },
      "source": [
        "# Predspracovanie dát"
      ]
    },
    {
      "cell_type": "markdown",
      "metadata": {
        "id": "5lSbdvCGMk9G",
        "colab_type": "text"
      },
      "source": [
        "Pred samotným trénovaním modelu bolo potrebné si získané dáta predspracovať. Samotný text sme zbavili rôznych tagov a interpunkčných znakov. Následne sme ho rozdelili na jednotlivé slová. \n",
        "\n",
        "Z každého hodnotenia sme zobrali prvých 256 slov, aby neboli príliš dlhé. V prípade, že bolo nejaké hodnotenie kratšie, tak sme ho doplnili nulami.\n",
        "\n",
        "Z množiny trénovacích slov sme si vytvorili slovník 1000 najčajstejšie sa vyskytujúcich slov a ten sme používali pri trénovaní. "
      ]
    },
    {
      "cell_type": "markdown",
      "metadata": {
        "id": "GOxIq0iTMm0I",
        "colab_type": "text"
      },
      "source": [
        "Užitočnosť daných hodnotení, ktorú sme mali zadanú vo forme počet \"Upvote\" a počet \"Downvote\", sme rozdelili a každú užitočnosť sme zaradili do jednej z troch kategórií. \n",
        "\n",
        "Tieto kategórie sú:\n",
        "- viac pozitívnych reakcií ako negatívnych reakcií\n",
        "- viac negatívnych reakcií ako pozitívnych reakcií\n",
        "- počet pozitívnych a negatívnych rekacií je vyrovnaný"
      ]
    },
    {
      "cell_type": "markdown",
      "metadata": {
        "id": "QwavhUlyMsSo",
        "colab_type": "text"
      },
      "source": [
        "Všetky dáta sme rozdelili na trénovaciu a testovaciu množinu v pomere 80:20. Toto rozdelenie sme spravili pred vytváraním slovníka"
      ]
    },
    {
      "cell_type": "markdown",
      "metadata": {
        "id": "g1QOH-8sMtGS",
        "colab_type": "text"
      },
      "source": [
        "# Predtrénovaný embedding"
      ]
    },
    {
      "cell_type": "markdown",
      "metadata": {
        "id": "c-SDcfAeM18X",
        "colab_type": "text"
      },
      "source": [
        "Vo všetkých našich modeloch okrem toho úplne základného sme použili v embedding vrstve predtrénovaný embedding GloVe. Konkrétne sme použili verziu so 100 dimenziami."
      ]
    },
    {
      "cell_type": "markdown",
      "metadata": {
        "id": "09iOHE47Ge4U",
        "colab_type": "text"
      },
      "source": [
        "# Architektúra modelov"
      ]
    },
    {
      "cell_type": "markdown",
      "metadata": {
        "id": "Q9MzT17ul-3R",
        "colab_type": "text"
      },
      "source": [
        "všetky naše modely sa nachádzajú na https://github.com/martinahanakova/nsiete-hanakova-kratky/tree/master/models "
      ]
    },
    {
      "cell_type": "markdown",
      "metadata": {
        "id": "-g1vtmSfP7-J",
        "colab_type": "text"
      },
      "source": [
        "## Konvolučné siete"
      ]
    },
    {
      "cell_type": "markdown",
      "metadata": {
        "id": "hSHgQbUJf6Mg",
        "colab_type": "text"
      },
      "source": [
        "Ako prvý z modelov sme použili model zložený zo vstupnej embedding vrstvy nasledovanej striedavo ôsmimi konvolučnými a maxpooling vrstvami. Pri všetkých vrstvách sme použili 128 filtrov, kernel_size 3, padding same a ako aktivačnú funkciu sme použili relu.\n",
        "\n",
        "Použili sme tiež L1 a L2 regularizáciu a dropout vrstvy."
      ]
    },
    {
      "cell_type": "markdown",
      "metadata": {
        "id": "IY-g3DRjP-JH",
        "colab_type": "text"
      },
      "source": [
        "## LSTM siete"
      ]
    },
    {
      "cell_type": "markdown",
      "metadata": {
        "id": "UG6_PtB4xq-N",
        "colab_type": "text"
      },
      "source": [
        "Ako ďalší model sme vyskúšali dvojvrstvovú obojsmernú LSTM sieť. Rovnako sme použli vstupnú embedding vrstvu a droupout vrstvy. Opäť sme tiež použili L1 a L2 regularizáciu.\n"
      ]
    },
    {
      "cell_type": "markdown",
      "metadata": {
        "id": "D-cnsarJ2-wm",
        "colab_type": "text"
      },
      "source": [
        "## Kombinovaný model"
      ]
    },
    {
      "cell_type": "markdown",
      "metadata": {
        "id": "J0pgyFoa3euA",
        "colab_type": "text"
      },
      "source": [
        "Ako posledné sme vyskúšali model, v ktorom sme skombinovali LSTM vtsvy s konvolučnými vrstvami. Inšpiráciu pre tento model sme čerpali z článku Peng Zhou a kolektív [8]. Tento model sme ešte mierne upravili a nakoniec sme použili vstupnú embedding vrstvu nasledovanú jednou obojsmernou LSTM vrstvou so 64 jednotkami. Za ňou nasledovali striedavo dve konvolučné a maxpooling vrstvy. \n",
        "\n",
        "Opäť sme použili L1, L2 regularizáciu a dropout vrstvy.\n"
      ]
    },
    {
      "cell_type": "markdown",
      "metadata": {
        "id": "YDY28NkZGogb",
        "colab_type": "text"
      },
      "source": [
        "# Trénovanie"
      ]
    },
    {
      "cell_type": "markdown",
      "metadata": {
        "id": "FvcbqPFGRosR",
        "colab_type": "text"
      },
      "source": [
        "### Hardvér"
      ]
    },
    {
      "cell_type": "markdown",
      "metadata": {
        "id": "clnrn3JbQPu_",
        "colab_type": "text"
      },
      "source": [
        "Trénovanie sme uskutočnili lokálne na vlastných zariadeniach. Aj keď sme si GCP prostredie pripravili, po uskutočnení prvých lokálnych testov sme spozorovali, že vzhľadom na veľkosť datasetu a komplexitu modelov nie je nutné GCP využiť. "
      ]
    },
    {
      "cell_type": "markdown",
      "metadata": {
        "id": "2zvYY4ifQ6_6",
        "colab_type": "text"
      },
      "source": [
        "### prostredie"
      ]
    },
    {
      "cell_type": "markdown",
      "metadata": {
        "id": "yBv7VAZuSB6q",
        "colab_type": "text"
      },
      "source": [
        "\n",
        "*   Využili sme platformu Tensorflow spolu s Keras API kvôli jednoduchému použitiu a prehľadným výsledkom.\n",
        "\n",
        "\n",
        "*   Modely sme trénovali spustením súboru *train.py* v príkazovom riadku. \n",
        "\n",
        "\n",
        "\n"
      ]
    },
    {
      "cell_type": "markdown",
      "metadata": {
        "id": "IEc_xOHAXgKc",
        "colab_type": "text"
      },
      "source": [
        "### Hyperparametre"
      ]
    },
    {
      "cell_type": "markdown",
      "metadata": {
        "id": "s3hi27KjiDeq",
        "colab_type": "text"
      },
      "source": [
        "Tieto parametre boli aplikované na akýkoľvek model, ktorý bol aktuálne aktívny v súbore *train.py*.\n",
        "\n",
        "Jedná sa o nasledovné parametre:\n",
        "* epochs - obvykle 10\n",
        "* batch_size - 32, 64 alebo 128\n",
        "* learning_rate - 0.001 alebo 0.0001\n",
        "* regularization - 0, 0.0001 alebo 0.00001\n",
        "* dropout - vždy 0.2 \n",
        "\n",
        "Pri trénovaní našich modelov sme skúšali rôzne kombinácie hodnôt daných parametrov za účelom porovnania úspešností modelov."
      ]
    },
    {
      "cell_type": "markdown",
      "metadata": {
        "id": "p_jZKqGfov7q",
        "colab_type": "text"
      },
      "source": [
        "Uvedené hodnoty parametrov sme obvykle použili kvôli tomu, že sme ich po prečítaní literatúry k danej doméne považovali za vhodné oporné body pri experimentoch s parametrami. \n",
        "\n",
        "Batch_size hodnoty boli stanovené na základe konvencií."
      ]
    },
    {
      "cell_type": "markdown",
      "metadata": {
        "id": "mXaUAJucG2Mt",
        "colab_type": "text"
      },
      "source": [
        "# Experiment, Analýza výsledkov, zhrnutie"
      ]
    },
    {
      "cell_type": "markdown",
      "metadata": {
        "id": "NKHKXQcVwoeo",
        "colab_type": "text"
      },
      "source": [
        "V rámci experimentu sme trénovali naše modely na analýzu sentimentu recenzií. Modely mali za úlohu určiť z obsahu recenzie, či má:\n",
        "\n",
        "1. viac pozitívnych hodnotení\n",
        "2. viac negatívnych hodnotení\n",
        "3. rovnako pozitívnych a negatívnych recenzií\n",
        "\n",
        "Pri trénovaní sme použili rôzne hodnoty hyperparametrov a následne sme porovnávali úspešnosť modelov.\n",
        "Výsledky trénovania a predikcií sme si priebežne logovali. (názov priečinku logov z jedného trénovania obsahuje vo svojom názve typ modelu a použité názvy a hodnoty hyperparametrov)\n",
        "\n"
      ]
    },
    {
      "cell_type": "markdown",
      "metadata": {
        "id": "HtcOJbna_Uz4",
        "colab_type": "text"
      },
      "source": [
        "### Úspešnosť modelov"
      ]
    },
    {
      "cell_type": "markdown",
      "metadata": {
        "id": "VYcjVqC-_cuG",
        "colab_type": "text"
      },
      "source": [
        "#### Baseline"
      ]
    },
    {
      "cell_type": "markdown",
      "metadata": {
        "id": "co-Vn4PMClVo",
        "colab_type": "text"
      },
      "source": [
        "ACC:"
      ]
    },
    {
      "cell_type": "markdown",
      "metadata": {
        "id": "0sUr_6D2BQ0Z",
        "colab_type": "text"
      },
      "source": [
        "![alt text](https://drive.google.com/uc?id=1QpUdRzZeOB7gaqNlDTG7BYDar2HCcIie)"
      ]
    },
    {
      "cell_type": "markdown",
      "metadata": {
        "id": "IaYzwc5wCotl",
        "colab_type": "text"
      },
      "source": [
        "LOSS:"
      ]
    },
    {
      "cell_type": "markdown",
      "metadata": {
        "id": "a4M1xbpzCLWd",
        "colab_type": "text"
      },
      "source": [
        "![alt text](https://drive.google.com/uc?id=1nNv22bM98HfNYZlBCKKXNMlC5b1U2lP1)"
      ]
    },
    {
      "cell_type": "markdown",
      "metadata": {
        "id": "Mg5-tAm2Bv_C",
        "colab_type": "text"
      },
      "source": [
        "Ako môžeme pozorovať, Baseline model, ktorý mal viac epoch a väčší learning rate sa pretrénoval."
      ]
    },
    {
      "cell_type": "markdown",
      "metadata": {
        "id": "E-wxaDVf_jxN",
        "colab_type": "text"
      },
      "source": [
        "#### CNN"
      ]
    },
    {
      "cell_type": "markdown",
      "metadata": {
        "id": "UXVapefXCtlV",
        "colab_type": "text"
      },
      "source": [
        "ACC:"
      ]
    },
    {
      "cell_type": "markdown",
      "metadata": {
        "id": "4ws8x78vDC43",
        "colab_type": "text"
      },
      "source": [
        "![alt text](https://drive.google.com/uc?id=1O1oi5oEZPw5TBu9RywU8xNmZiHj2Svm_)"
      ]
    },
    {
      "cell_type": "markdown",
      "metadata": {
        "id": "sq0deB6uD1WW",
        "colab_type": "text"
      },
      "source": [
        "BEST ACC:"
      ]
    },
    {
      "cell_type": "markdown",
      "metadata": {
        "id": "kf7P3_HZD7_t",
        "colab_type": "text"
      },
      "source": [
        "![alt text](https://drive.google.com/uc?id=17mXOwKgA8FjkRw_BtDens3T-nNT400Q9)"
      ]
    },
    {
      "cell_type": "markdown",
      "metadata": {
        "id": "7g7MddBkDE5o",
        "colab_type": "text"
      },
      "source": [
        "LOSS:"
      ]
    },
    {
      "cell_type": "markdown",
      "metadata": {
        "id": "FayGi1hEDGlU",
        "colab_type": "text"
      },
      "source": [
        "![alt text](https://drive.google.com/uc?id=1fwKMoJZaNvsZjE8KcX-TURBO4Q6ZePFv)"
      ]
    },
    {
      "cell_type": "markdown",
      "metadata": {
        "id": "CIlrYLqZHgjQ",
        "colab_type": "text"
      },
      "source": [
        "Ako môžeme pozorovať, v šiestom epochu začalo dochádzať k pretrénovaniu"
      ]
    },
    {
      "cell_type": "markdown",
      "metadata": {
        "id": "TRzd3Ggg_nu-",
        "colab_type": "text"
      },
      "source": [
        "#### BiLSTM"
      ]
    },
    {
      "cell_type": "markdown",
      "metadata": {
        "id": "I3UpWZJBHvwF",
        "colab_type": "text"
      },
      "source": [
        "ACC:"
      ]
    },
    {
      "cell_type": "markdown",
      "metadata": {
        "id": "lZeviOyYH9eB",
        "colab_type": "text"
      },
      "source": [
        "![alt text](https://drive.google.com/uc?id=1nZAfcpHm8SuoEpuYE4LPYeIf3t1xUoDp)"
      ]
    },
    {
      "cell_type": "markdown",
      "metadata": {
        "id": "u4zMIpCzH_lN",
        "colab_type": "text"
      },
      "source": [
        "LOSS:"
      ]
    },
    {
      "cell_type": "markdown",
      "metadata": {
        "id": "ZvyCvYBAIBpM",
        "colab_type": "text"
      },
      "source": [
        "![alt text](https://drive.google.com/uc?id=1KkcgdYB11wnlRSAF6S3i8_qnuKmv36cX)"
      ]
    },
    {
      "cell_type": "markdown",
      "metadata": {
        "id": "XEZkFNwTBNOu",
        "colab_type": "text"
      },
      "source": [
        "### Kombinovaný model"
      ]
    },
    {
      "cell_type": "markdown",
      "metadata": {
        "id": "cg_x0mqtKkzQ",
        "colab_type": "text"
      },
      "source": [
        "ACC:"
      ]
    },
    {
      "cell_type": "markdown",
      "metadata": {
        "id": "Y8bKHSvsKm1Z",
        "colab_type": "text"
      },
      "source": [
        "![alt text](https://drive.google.com/uc?id=1qii7Bp6nkrZJ87XWca_9YEWlWUM9UXeP)"
      ]
    },
    {
      "cell_type": "markdown",
      "metadata": {
        "id": "Y3JYePsNKwde",
        "colab_type": "text"
      },
      "source": [
        "LOSS:"
      ]
    },
    {
      "cell_type": "markdown",
      "metadata": {
        "id": "yk0ABMRhKxcC",
        "colab_type": "text"
      },
      "source": [
        "![alt text](https://drive.google.com/uc?id=1SzJQ0zZuOZLsLdLYR5q3NQS4lfYSQJui)"
      ]
    },
    {
      "cell_type": "markdown",
      "metadata": {
        "id": "izd7veCS9TEk",
        "colab_type": "text"
      },
      "source": [
        "### Najlepší a najhorší výsledok"
      ]
    },
    {
      "cell_type": "markdown",
      "metadata": {
        "id": "vE2cKDq39cwk",
        "colab_type": "text"
      },
      "source": [
        "![bestVSworst_accuracy](https://drive.google.com/uc?id=1OkLMM_L9ZJrhrtptpszgraWGcAGpgKiq)"
      ]
    },
    {
      "cell_type": "markdown",
      "metadata": {
        "id": "dJKf9jeINfTj",
        "colab_type": "text"
      },
      "source": [
        "# Ďalšia práca"
      ]
    },
    {
      "cell_type": "markdown",
      "metadata": {
        "id": "DQx0e1oWNlTC",
        "colab_type": "text"
      },
      "source": [
        "V rámci tohto projektu sme ani zďaleko nestihli všetko, čo by sme chceli, respektíve mohli vyskúšať. \n",
        "\n",
        "V prípadnom pokračovaní na tejto práci by sme chceli vyskúšať rôzne veľkosti slovníka a tiež vstupného počtu slov.\n",
        "\n",
        "Ďalej sme nestihli spraviť porovnanie s predtrénovaným embeddingom a bez neho, čo by mohlo byť tiež zaujímavé.\n",
        "\n",
        "Tiež by sme vyskúšali omnoho väčšie množstvo hyperparametrov. \n",
        "\n",
        "Ďalšou možnosťou by bolo trénovanie modelov najskôr na menšom množstve dát, aby sme rýchlejšie videli, nakoľko je model schopný. Tento prístup sme si uvedomili až trochu neskôr, na čo sme možno aj doplatili, lebo by sme inak stihli vyskúšať väčšie množstvo kombinácii parametrov.\n",
        "\n",
        "Tiež sa nám viackrát stalo, že sa model po určitom počte epoch začal pretrénovavať, vtedy by bolo dobré trénovanie zastaviť a skúsiť teda aj iné množstvo epoch ako 10, ktoré sme štandardne používali."
      ]
    }
  ]
}